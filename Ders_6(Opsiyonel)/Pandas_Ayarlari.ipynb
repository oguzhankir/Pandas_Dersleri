{
 "cells": [
  {
   "cell_type": "markdown",
   "metadata": {},
   "source": [
    "# <font color='orange'><b>Pandas Ayarları</b> </font> "
   ]
  },
  {
   "cell_type": "markdown",
   "metadata": {},
   "source": [
    "##### <font color='white'>Pandas, kendi bünyesindeki bazı ayarları kullanıcıların değiştirmesine izin verir. Özellikle veri görüntüleme ile ilgili ayarları kullanıcının veri setine göre kendisinin ayarlaması önerilir. </font> \n",
    "\n",
    "<font color='white'>Bu ayarlamalar büyük küçük harfe duyarlı olmayacak şekilde (örn. display.max_rows) şeklinde yapılır.  </font> "
   ]
  },
  {
   "cell_type": "code",
   "execution_count": 89,
   "metadata": {},
   "outputs": [],
   "source": [
    "import numpy as np\n",
    "import pandas as pd"
   ]
  },
  {
   "cell_type": "markdown",
   "metadata": {},
   "source": [
    "- Daha önce yapılan oynamaların gitmesi için ilk olarak ayarları eski haline getirelim."
   ]
  },
  {
   "cell_type": "code",
   "execution_count": 90,
   "metadata": {},
   "outputs": [],
   "source": [
    "pd.reset_option(\"^display\")"
   ]
  },
  {
   "cell_type": "markdown",
   "metadata": {},
   "source": [
    "#### <font color='pink'>Önceki videodan hatırlayacağımız üzere bir veri setini çağırdığımızda ne kadar satırın görüntüleneceğini ayarlayabiliyoruz. </font> \n",
    "- <font color='white'>İlk olarak pandasın default kaç satır getirdiğine bakalım. </font> \n",
    "\n"
   ]
  },
  {
   "cell_type": "code",
   "execution_count": 91,
   "metadata": {},
   "outputs": [
    {
     "name": "stdout",
     "output_type": "stream",
     "text": [
      "60\n"
     ]
    }
   ],
   "source": [
    "print(pd.get_option(\"display.max_rows\"))"
   ]
  },
  {
   "cell_type": "markdown",
   "metadata": {},
   "source": [
    "- <font color='white'>Daha sonra bu görüntüleme ayarlarını değiştirelim. </font> "
   ]
  },
  {
   "cell_type": "code",
   "execution_count": 92,
   "metadata": {},
   "outputs": [
    {
     "name": "stdout",
     "output_type": "stream",
     "text": [
      "Default hali \n",
      "\n",
      "60\n",
      "Değiştirilmiş hali \n",
      "\n",
      "500\n"
     ]
    }
   ],
   "source": [
    "print(f\"Default hali \\n\")\n",
    "print(pd.get_option(\"display.max_rows\"))\n",
    "\n",
    "pd.set_option(\"display.max_rows\", 500)\n",
    "\n",
    "print(f\"Değiştirilmiş hali \\n\")\n",
    "print(pd.get_option(\"display.max_rows\"))\n"
   ]
  },
  {
   "cell_type": "markdown",
   "metadata": {},
   "source": [
    "- get_option() / set_option() - bir ayarı görüntüle/değiştir\n",
    "\n",
    "- reset_option() - bir ayarı default haline döndür.\n",
    "\n",
    "- describe_option() - bir veya birden fazla seçeneği tanımlanışını yazdır."
   ]
  },
  {
   "cell_type": "markdown",
   "metadata": {},
   "source": [
    "Değiştirdiğimiz satır görüntüleme ayarını default haline getirelim"
   ]
  },
  {
   "cell_type": "code",
   "execution_count": 93,
   "metadata": {},
   "outputs": [
    {
     "name": "stdout",
     "output_type": "stream",
     "text": [
      "60\n"
     ]
    }
   ],
   "source": [
    "pd.reset_option(\"display.max_rows\")\n",
    "print(pd.get_option(\"display.max_rows\"))"
   ]
  },
  {
   "cell_type": "markdown",
   "metadata": {},
   "source": [
    "Ayrıca bütün görüntüleme ayarlarını birden default haline döndürmek mümkündür:"
   ]
  },
  {
   "cell_type": "code",
   "execution_count": 94,
   "metadata": {},
   "outputs": [],
   "source": [
    "pd.reset_option(\"^display\")"
   ]
  },
  {
   "cell_type": "markdown",
   "metadata": {},
   "source": [
    "option_context ile çoklu ayar değiştirme yapalım. Bu şekilde with bloğu ile çoklu değişiklilkler yapabiliyoruz. Ancak with içinden çıktığımızda ayarlar eski haline dönecektir."
   ]
  },
  {
   "cell_type": "code",
   "execution_count": 95,
   "metadata": {},
   "outputs": [
    {
     "name": "stdout",
     "output_type": "stream",
     "text": [
      "10\n",
      "5\n",
      "60\n",
      "20\n"
     ]
    }
   ],
   "source": [
    "with pd.option_context(\"display.max_rows\", 10, \"display.max_columns\", 5):\n",
    "    print(pd.get_option(\"display.max_rows\"))\n",
    "    print(pd.get_option(\"display.max_columns\"))\n",
    "\n",
    "print(pd.get_option(\"display.max_rows\"))\n",
    "print(pd.get_option(\"display.max_columns\"))"
   ]
  },
  {
   "cell_type": "markdown",
   "metadata": {},
   "source": [
    "#### <font color='orange'>Satır ve sütunların görüntülenme ayarlarından sonra sıklıkla kullanılan diğer ayarlara bakalım. </font> \n",
    "\n",
    "- <font color='pink'> expand_frame_repr ile veri setininin görüntülenmesinin nasıl etkilendiğini inceleyelim. Görüleceği üzere expand_frame_repr ile dataframe in satır bazında sayfa boyunca uzanması için ayarlamalar yapılır. </font> "
   ]
  },
  {
   "cell_type": "code",
   "execution_count": 96,
   "metadata": {},
   "outputs": [
    {
     "name": "stdout",
     "output_type": "stream",
     "text": [
      "          0         1         2         3         4         5         6  \\\n",
      "0 -1.156233 -2.137572  1.047661 -0.425496 -0.510888 -1.356656  1.207500   \n",
      "1  0.779765 -0.209354 -1.644433  0.115886  0.454018 -1.252811  1.079021   \n",
      "2 -0.214543 -1.238551 -0.302957  1.443237  1.002903  1.095070 -1.295514   \n",
      "3 -0.131644  0.700527  0.629127 -0.004534 -0.372693 -0.191871  1.310349   \n",
      "4  0.731509 -1.165773 -2.476023  1.410887 -0.717485 -1.517352  0.310606   \n",
      "\n",
      "          7         8         9  \n",
      "0  1.866102  1.399735  1.161558  \n",
      "1 -0.377891  0.387346 -1.706412  \n",
      "2 -0.084376  0.629691 -1.197011  \n",
      "3 -0.748103 -0.921603 -0.865154  \n",
      "4 -0.483548  0.282847  0.105618  \n"
     ]
    }
   ],
   "source": [
    "df = pd.DataFrame(np.random.randn(5, 10))\n",
    "\n",
    "pd.set_option(\"expand_frame_repr\", True)\n",
    "\n",
    "print(df)"
   ]
  },
  {
   "cell_type": "code",
   "execution_count": 97,
   "metadata": {},
   "outputs": [
    {
     "name": "stdout",
     "output_type": "stream",
     "text": [
      "          0         1         2         3         4         5         6         7         8         9\n",
      "0 -1.156233 -2.137572  1.047661 -0.425496 -0.510888 -1.356656  1.207500  1.866102  1.399735  1.161558\n",
      "1  0.779765 -0.209354 -1.644433  0.115886  0.454018 -1.252811  1.079021 -0.377891  0.387346 -1.706412\n",
      "2 -0.214543 -1.238551 -0.302957  1.443237  1.002903  1.095070 -1.295514 -0.084376  0.629691 -1.197011\n",
      "3 -0.131644  0.700527  0.629127 -0.004534 -0.372693 -0.191871  1.310349 -0.748103 -0.921603 -0.865154\n",
      "4  0.731509 -1.165773 -2.476023  1.410887 -0.717485 -1.517352  0.310606 -0.483548  0.282847  0.105618\n"
     ]
    }
   ],
   "source": [
    "pd.set_option(\"expand_frame_repr\", False)\n",
    "print(df)"
   ]
  },
  {
   "cell_type": "markdown",
   "metadata": {},
   "source": [
    "- <font color='pink'> large_repr ile veri setininin görüntülenmesinin nasıl etkilendiğini inceleyelim. Görüleceği üzere max_columns veya max_rows değerlerini  aşan dataframelerin kesilmiş şekilde mi  yoksa bir özet olarak mı görüntüleyeceğinizi seçmenizi sağlar.\n",
    " </font> "
   ]
  },
  {
   "cell_type": "code",
   "execution_count": 98,
   "metadata": {},
   "outputs": [
    {
     "name": "stdout",
     "output_type": "stream",
     "text": [
      "           0         1         2         3         4         5         6         7         8         9\n",
      "0   0.176217  0.908664 -0.138492  0.291145  1.352269  1.052039  0.735661 -0.121873 -1.451029 -1.013603\n",
      "1  -1.474570 -1.816267  0.827103  0.197964  0.469795 -0.202624 -1.672651 -1.716944 -0.282492 -0.314333\n",
      "..       ...       ...       ...       ...       ...       ...       ...       ...       ...       ...\n",
      "8   1.390521 -0.981621  2.279907 -0.699790 -0.582435  0.863413 -0.280460  0.218793 -0.739152  0.291876\n",
      "9  -0.095854  0.661975  0.062136 -0.703872  0.078271 -0.409088 -0.772036  1.111383  0.024503 -0.190388\n",
      "\n",
      "[10 rows x 10 columns]\n"
     ]
    }
   ],
   "source": [
    "df = pd.DataFrame(np.random.randn(10, 10))\n",
    "\n",
    "pd.set_option(\"max_rows\", 5)\n",
    "\n",
    "pd.set_option(\"large_repr\", \"truncate\")\n",
    "\n",
    "print(df)\n",
    "\n"
   ]
  },
  {
   "cell_type": "code",
   "execution_count": 99,
   "metadata": {},
   "outputs": [
    {
     "name": "stdout",
     "output_type": "stream",
     "text": [
      "<class 'pandas.core.frame.DataFrame'>\n",
      "RangeIndex: 10 entries, 0 to 9\n",
      "Data columns (total 10 columns):\n",
      " #   Column  Non-Null Count  Dtype  \n",
      "---  ------  --------------  -----  \n",
      " 0   0       10 non-null     float64\n",
      " 1   1       10 non-null     float64\n",
      " 2   2       10 non-null     float64\n",
      " 3   3       10 non-null     float64\n",
      " 4   4       10 non-null     float64\n",
      " 5   5       10 non-null     float64\n",
      " 6   6       10 non-null     float64\n",
      " 7   7       10 non-null     float64\n",
      " 8   8       10 non-null     float64\n",
      " 9   9       10 non-null     float64\n",
      "dtypes: float64(10)\n",
      "memory usage: 928.0 bytes\n",
      "\n"
     ]
    }
   ],
   "source": [
    "pd.set_option(\"large_repr\", \"info\")\n",
    "print(df)"
   ]
  },
  {
   "cell_type": "markdown",
   "metadata": {},
   "source": [
    "Ayarları defaulta çevirelim"
   ]
  },
  {
   "cell_type": "code",
   "execution_count": 100,
   "metadata": {},
   "outputs": [],
   "source": [
    "pd.reset_option(\"large_repr\")"
   ]
  },
  {
   "cell_type": "code",
   "execution_count": 101,
   "metadata": {},
   "outputs": [],
   "source": [
    "pd.reset_option(\"max_rows\")"
   ]
  },
  {
   "cell_type": "markdown",
   "metadata": {},
   "source": [
    "- <font color='pink'> max_colwidth  ile veri setininin görüntülenmesinin nasıl etkilendiğini inceleyelim. Görüleceği üzere sütunların maksimum genişliğini ayarlar. Bu uzunluktaki veya daha uzun hücreler üç nokta ile kesilecektir. </font> "
   ]
  },
  {
   "cell_type": "code",
   "execution_count": 102,
   "metadata": {},
   "outputs": [],
   "source": [
    "df = pd.DataFrame(\n",
    "    np.array(\n",
    "        [\n",
    "            [\"foo\", \"bar\", \"bim\", \"uncomfortably long string\"],\n",
    "            [\"horse\", \"cow\", \"banana\", \"apple\"],\n",
    "        ]\n",
    "    )\n",
    ")"
   ]
  },
  {
   "cell_type": "code",
   "execution_count": 103,
   "metadata": {},
   "outputs": [
    {
     "name": "stdout",
     "output_type": "stream",
     "text": [
      "       0    1       2                          3\n",
      "0    foo  bar     bim  uncomfortably long string\n",
      "1  horse  cow  banana                      apple\n"
     ]
    }
   ],
   "source": [
    "pd.set_option(\"max_colwidth\", 40)\n",
    "print(df)"
   ]
  },
  {
   "cell_type": "code",
   "execution_count": 104,
   "metadata": {},
   "outputs": [
    {
     "name": "stdout",
     "output_type": "stream",
     "text": [
      "       0    1      2      3\n",
      "0    foo  bar    bim  un...\n",
      "1  horse  cow  ba...  apple\n"
     ]
    }
   ],
   "source": [
    "pd.set_option(\"max_colwidth\", 6)\n",
    "print(df)"
   ]
  },
  {
   "cell_type": "markdown",
   "metadata": {},
   "source": [
    "- <font color='pink'> max_info_columns   ile veri setininin görüntülenmesinin nasıl etkilendiğini inceleyelim. df.info() şeklinde dataframe hakkında bilgi aldığımızda görüntülenme şekliyle ayarlamalar yapılır. </font> "
   ]
  },
  {
   "cell_type": "code",
   "execution_count": 105,
   "metadata": {},
   "outputs": [
    {
     "name": "stdout",
     "output_type": "stream",
     "text": [
      "<class 'pandas.core.frame.DataFrame'>\n",
      "RangeIndex: 10 entries, 0 to 9\n",
      "Data columns (total 10 columns):\n",
      " #   Column  Non-Null Count  Dtype  \n",
      "---  ------  --------------  -----  \n",
      " 0   0       10 non-null     float64\n",
      " 1   1       10 non-null     float64\n",
      " 2   2       10 non-null     float64\n",
      " 3   3       10 non-null     float64\n",
      " 4   4       10 non-null     float64\n",
      " 5   5       10 non-null     float64\n",
      " 6   6       10 non-null     float64\n",
      " 7   7       10 non-null     float64\n",
      " 8   8       10 non-null     float64\n",
      " 9   9       10 non-null     float64\n",
      "dtypes: float64(10)\n",
      "memory usage: 928.0 bytes\n"
     ]
    }
   ],
   "source": [
    "df = pd.DataFrame(np.random.randn(10, 10))\n",
    "\n",
    "pd.set_option(\"max_info_columns\", 11)\n",
    "\n",
    "df.info()"
   ]
  },
  {
   "cell_type": "code",
   "execution_count": 106,
   "metadata": {},
   "outputs": [
    {
     "name": "stdout",
     "output_type": "stream",
     "text": [
      "<class 'pandas.core.frame.DataFrame'>\n",
      "RangeIndex: 10 entries, 0 to 9\n",
      "Columns: 10 entries, 0 to 9\n",
      "dtypes: float64(10)\n",
      "memory usage: 928.0 bytes\n"
     ]
    }
   ],
   "source": [
    "pd.set_option(\"max_info_columns\", 5)\n",
    "\n",
    "df.info()"
   ]
  },
  {
   "cell_type": "markdown",
   "metadata": {},
   "source": [
    "Ayarları eski haline çevirelim"
   ]
  },
  {
   "cell_type": "code",
   "execution_count": 107,
   "metadata": {},
   "outputs": [],
   "source": [
    "pd.reset_option(\"max_info_columns\")"
   ]
  },
  {
   "cell_type": "markdown",
   "metadata": {},
   "source": [
    "- <font color='pink'> max_info_rows   ile veri setininin görüntülenmesinin nasıl etkilendiğini inceleyelim. df.info() şeklinde dataframe hakkında bilgi aldığımızda görüntülenme şekliyle ayarlamalar yapılır. </font> "
   ]
  },
  {
   "cell_type": "code",
   "execution_count": 108,
   "metadata": {},
   "outputs": [
    {
     "name": "stdout",
     "output_type": "stream",
     "text": [
      "     0    1    2    3    4    5    6    7    8    9\n",
      "0  0.0  0.0  0.0  1.0  0.0  1.0  NaN  0.0  NaN  0.0\n",
      "1  0.0  1.0  0.0  NaN  0.0  1.0  1.0  NaN  0.0  0.0\n",
      "2  NaN  0.0  NaN  1.0  0.0  1.0  1.0  1.0  NaN  NaN\n",
      "3  0.0  NaN  1.0  1.0  0.0  NaN  0.0  0.0  1.0  1.0\n",
      "4  NaN  NaN  1.0  1.0  1.0  0.0  1.0  1.0  0.0  1.0\n",
      "5  NaN  1.0  1.0  1.0  0.0  0.0  1.0  NaN  0.0  NaN\n",
      "6  NaN  1.0  NaN  NaN  NaN  NaN  NaN  0.0  1.0  0.0\n",
      "7  0.0  0.0  NaN  NaN  1.0  0.0  NaN  1.0  1.0  NaN\n",
      "8  NaN  0.0  1.0  NaN  NaN  0.0  0.0  NaN  NaN  NaN\n",
      "9  0.0  0.0  1.0  1.0  1.0  1.0  0.0  0.0  1.0  NaN\n"
     ]
    }
   ],
   "source": [
    "df = pd.DataFrame(np.random.choice([0, 1, np.nan], size=(10, 10)))\n",
    "\n",
    "print(df)"
   ]
  },
  {
   "cell_type": "code",
   "execution_count": 109,
   "metadata": {},
   "outputs": [
    {
     "name": "stdout",
     "output_type": "stream",
     "text": [
      "<class 'pandas.core.frame.DataFrame'>\n",
      "RangeIndex: 10 entries, 0 to 9\n",
      "Data columns (total 10 columns):\n",
      " #   Column  Non-Null Count  Dtype  \n",
      "---  ------  --------------  -----  \n",
      " 0   0       5 non-null      float64\n",
      " 1   1       8 non-null      float64\n",
      " 2   2       7 non-null      float64\n",
      " 3   3       6 non-null      float64\n",
      " 4   4       8 non-null      float64\n",
      " 5   5       8 non-null      float64\n",
      " 6   6       7 non-null      float64\n",
      " 7   7       7 non-null      float64\n",
      " 8   8       7 non-null      float64\n",
      " 9   9       5 non-null      float64\n",
      "dtypes: float64(10)\n",
      "memory usage: 928.0 bytes\n"
     ]
    }
   ],
   "source": [
    "pd.set_option(\"max_info_rows\", 11)\n",
    "df.info()\n"
   ]
  },
  {
   "cell_type": "code",
   "execution_count": 110,
   "metadata": {},
   "outputs": [
    {
     "name": "stdout",
     "output_type": "stream",
     "text": [
      "<class 'pandas.core.frame.DataFrame'>\n",
      "RangeIndex: 10 entries, 0 to 9\n",
      "Data columns (total 10 columns):\n",
      " #   Column  Dtype  \n",
      "---  ------  -----  \n",
      " 0   0       float64\n",
      " 1   1       float64\n",
      " 2   2       float64\n",
      " 3   3       float64\n",
      " 4   4       float64\n",
      " 5   5       float64\n",
      " 6   6       float64\n",
      " 7   7       float64\n",
      " 8   8       float64\n",
      " 9   9       float64\n",
      "dtypes: float64(10)\n",
      "memory usage: 928.0 bytes\n"
     ]
    }
   ],
   "source": [
    "pd.set_option(\"max_info_rows\", 5)\n",
    "\n",
    "df.info()"
   ]
  },
  {
   "cell_type": "markdown",
   "metadata": {},
   "source": [
    "Bütün görüntüleme ayarlarımızı sıfırlayalım"
   ]
  },
  {
   "cell_type": "code",
   "execution_count": 111,
   "metadata": {},
   "outputs": [],
   "source": [
    "pd.reset_option(\"^display\")"
   ]
  },
  {
   "cell_type": "markdown",
   "metadata": {},
   "source": [
    "- <font color='pink'> precision    ile veri setininin görüntülenmesinin nasıl etkilendiğini inceleyelim. Görüleceği üzere verilerin virgülden sonraki basamağı ile ilgili ayarlamalar yapılır. </font> "
   ]
  },
  {
   "cell_type": "code",
   "execution_count": 112,
   "metadata": {},
   "outputs": [
    {
     "data": {
      "text/html": [
       "<div>\n",
       "<style scoped>\n",
       "    .dataframe tbody tr th:only-of-type {\n",
       "        vertical-align: middle;\n",
       "    }\n",
       "\n",
       "    .dataframe tbody tr th {\n",
       "        vertical-align: top;\n",
       "    }\n",
       "\n",
       "    .dataframe thead th {\n",
       "        text-align: right;\n",
       "    }\n",
       "</style>\n",
       "<table border=\"1\" class=\"dataframe\">\n",
       "  <thead>\n",
       "    <tr style=\"text-align: right;\">\n",
       "      <th></th>\n",
       "      <th>0</th>\n",
       "      <th>1</th>\n",
       "      <th>2</th>\n",
       "      <th>3</th>\n",
       "      <th>4</th>\n",
       "    </tr>\n",
       "  </thead>\n",
       "  <tbody>\n",
       "    <tr>\n",
       "      <th>0</th>\n",
       "      <td>1.8471820</td>\n",
       "      <td>-0.2576153</td>\n",
       "      <td>0.7639671</td>\n",
       "      <td>-0.0620824</td>\n",
       "      <td>-0.5740030</td>\n",
       "    </tr>\n",
       "    <tr>\n",
       "      <th>1</th>\n",
       "      <td>0.2567543</td>\n",
       "      <td>-0.5728511</td>\n",
       "      <td>-0.1656426</td>\n",
       "      <td>0.4027447</td>\n",
       "      <td>0.2734485</td>\n",
       "    </tr>\n",
       "    <tr>\n",
       "      <th>2</th>\n",
       "      <td>0.4190399</td>\n",
       "      <td>-1.1102848</td>\n",
       "      <td>-0.9944368</td>\n",
       "      <td>0.1783706</td>\n",
       "      <td>0.9219410</td>\n",
       "    </tr>\n",
       "    <tr>\n",
       "      <th>3</th>\n",
       "      <td>1.0650146</td>\n",
       "      <td>-1.1732636</td>\n",
       "      <td>0.4343681</td>\n",
       "      <td>-0.2128760</td>\n",
       "      <td>0.2764259</td>\n",
       "    </tr>\n",
       "    <tr>\n",
       "      <th>4</th>\n",
       "      <td>-1.6819344</td>\n",
       "      <td>0.1242968</td>\n",
       "      <td>-1.0857307</td>\n",
       "      <td>1.2320732</td>\n",
       "      <td>1.1624839</td>\n",
       "    </tr>\n",
       "  </tbody>\n",
       "</table>\n",
       "</div>"
      ],
      "text/plain": [
       "           0          1          2          3          4\n",
       "0  1.8471820 -0.2576153  0.7639671 -0.0620824 -0.5740030\n",
       "1  0.2567543 -0.5728511 -0.1656426  0.4027447  0.2734485\n",
       "2  0.4190399 -1.1102848 -0.9944368  0.1783706  0.9219410\n",
       "3  1.0650146 -1.1732636  0.4343681 -0.2128760  0.2764259\n",
       "4 -1.6819344  0.1242968 -1.0857307  1.2320732  1.1624839"
      ]
     },
     "execution_count": 112,
     "metadata": {},
     "output_type": "execute_result"
    }
   ],
   "source": [
    "df = pd.DataFrame(np.random.randn(5, 5))\n",
    "\n",
    "pd.set_option(\"precision\", 7)\n",
    "\n",
    "df"
   ]
  },
  {
   "cell_type": "code",
   "execution_count": 113,
   "metadata": {},
   "outputs": [
    {
     "data": {
      "text/html": [
       "<div>\n",
       "<style scoped>\n",
       "    .dataframe tbody tr th:only-of-type {\n",
       "        vertical-align: middle;\n",
       "    }\n",
       "\n",
       "    .dataframe tbody tr th {\n",
       "        vertical-align: top;\n",
       "    }\n",
       "\n",
       "    .dataframe thead th {\n",
       "        text-align: right;\n",
       "    }\n",
       "</style>\n",
       "<table border=\"1\" class=\"dataframe\">\n",
       "  <thead>\n",
       "    <tr style=\"text-align: right;\">\n",
       "      <th></th>\n",
       "      <th>0</th>\n",
       "      <th>1</th>\n",
       "      <th>2</th>\n",
       "      <th>3</th>\n",
       "      <th>4</th>\n",
       "    </tr>\n",
       "  </thead>\n",
       "  <tbody>\n",
       "    <tr>\n",
       "      <th>0</th>\n",
       "      <td>1.8472</td>\n",
       "      <td>-0.2576</td>\n",
       "      <td>0.7640</td>\n",
       "      <td>-0.0621</td>\n",
       "      <td>-0.5740</td>\n",
       "    </tr>\n",
       "    <tr>\n",
       "      <th>1</th>\n",
       "      <td>0.2568</td>\n",
       "      <td>-0.5729</td>\n",
       "      <td>-0.1656</td>\n",
       "      <td>0.4027</td>\n",
       "      <td>0.2734</td>\n",
       "    </tr>\n",
       "    <tr>\n",
       "      <th>2</th>\n",
       "      <td>0.4190</td>\n",
       "      <td>-1.1103</td>\n",
       "      <td>-0.9944</td>\n",
       "      <td>0.1784</td>\n",
       "      <td>0.9219</td>\n",
       "    </tr>\n",
       "    <tr>\n",
       "      <th>3</th>\n",
       "      <td>1.0650</td>\n",
       "      <td>-1.1733</td>\n",
       "      <td>0.4344</td>\n",
       "      <td>-0.2129</td>\n",
       "      <td>0.2764</td>\n",
       "    </tr>\n",
       "    <tr>\n",
       "      <th>4</th>\n",
       "      <td>-1.6819</td>\n",
       "      <td>0.1243</td>\n",
       "      <td>-1.0857</td>\n",
       "      <td>1.2321</td>\n",
       "      <td>1.1625</td>\n",
       "    </tr>\n",
       "  </tbody>\n",
       "</table>\n",
       "</div>"
      ],
      "text/plain": [
       "        0       1       2       3       4\n",
       "0  1.8472 -0.2576  0.7640 -0.0621 -0.5740\n",
       "1  0.2568 -0.5729 -0.1656  0.4027  0.2734\n",
       "2  0.4190 -1.1103 -0.9944  0.1784  0.9219\n",
       "3  1.0650 -1.1733  0.4344 -0.2129  0.2764\n",
       "4 -1.6819  0.1243 -1.0857  1.2321  1.1625"
      ]
     },
     "execution_count": 113,
     "metadata": {},
     "output_type": "execute_result"
    }
   ],
   "source": [
    "pd.set_option(\"precision\", 4)\n",
    "\n",
    "df"
   ]
  },
  {
   "cell_type": "code",
   "execution_count": 114,
   "metadata": {},
   "outputs": [],
   "source": [
    "pd.reset_option(\"^display\")"
   ]
  },
  {
   "cell_type": "markdown",
   "metadata": {},
   "source": [
    "- <font color='pink'> chop_threshold ile veri setininin görüntülenmesinin nasıl etkilendiğini inceleyelim. Görüleceği üzere bir DataFrame görüntülediğinde pandasın sayıları hangi düzeyde gösterileceğini ayarlar. Precision dan farkı, burada yapılan ayarlar sadece görüntüleme ile ilgilidir. Hesaplamalarda sayının tamamı kullanılır."
   ]
  },
  {
   "cell_type": "code",
   "execution_count": 115,
   "metadata": {},
   "outputs": [
    {
     "data": {
      "text/html": [
       "<div>\n",
       "<style scoped>\n",
       "    .dataframe tbody tr th:only-of-type {\n",
       "        vertical-align: middle;\n",
       "    }\n",
       "\n",
       "    .dataframe tbody tr th {\n",
       "        vertical-align: top;\n",
       "    }\n",
       "\n",
       "    .dataframe thead th {\n",
       "        text-align: right;\n",
       "    }\n",
       "</style>\n",
       "<table border=\"1\" class=\"dataframe\">\n",
       "  <thead>\n",
       "    <tr style=\"text-align: right;\">\n",
       "      <th></th>\n",
       "      <th>0</th>\n",
       "      <th>1</th>\n",
       "      <th>2</th>\n",
       "      <th>3</th>\n",
       "      <th>4</th>\n",
       "      <th>5</th>\n",
       "    </tr>\n",
       "  </thead>\n",
       "  <tbody>\n",
       "    <tr>\n",
       "      <th>0</th>\n",
       "      <td>-1.752077</td>\n",
       "      <td>1.017393</td>\n",
       "      <td>1.477761</td>\n",
       "      <td>1.003040</td>\n",
       "      <td>0.166298</td>\n",
       "      <td>-0.135647</td>\n",
       "    </tr>\n",
       "    <tr>\n",
       "      <th>1</th>\n",
       "      <td>-2.196159</td>\n",
       "      <td>2.293093</td>\n",
       "      <td>1.765069</td>\n",
       "      <td>-0.685330</td>\n",
       "      <td>-0.060659</td>\n",
       "      <td>0.401942</td>\n",
       "    </tr>\n",
       "    <tr>\n",
       "      <th>2</th>\n",
       "      <td>0.531395</td>\n",
       "      <td>-0.056742</td>\n",
       "      <td>-0.921771</td>\n",
       "      <td>0.103939</td>\n",
       "      <td>0.046279</td>\n",
       "      <td>0.866104</td>\n",
       "    </tr>\n",
       "    <tr>\n",
       "      <th>3</th>\n",
       "      <td>-0.636005</td>\n",
       "      <td>-2.149484</td>\n",
       "      <td>-0.639144</td>\n",
       "      <td>-1.612028</td>\n",
       "      <td>-0.354321</td>\n",
       "      <td>0.463397</td>\n",
       "    </tr>\n",
       "    <tr>\n",
       "      <th>4</th>\n",
       "      <td>-1.096050</td>\n",
       "      <td>-1.135257</td>\n",
       "      <td>0.913026</td>\n",
       "      <td>1.186977</td>\n",
       "      <td>-0.542038</td>\n",
       "      <td>0.847066</td>\n",
       "    </tr>\n",
       "    <tr>\n",
       "      <th>5</th>\n",
       "      <td>0.453183</td>\n",
       "      <td>1.668842</td>\n",
       "      <td>-1.569877</td>\n",
       "      <td>0.179114</td>\n",
       "      <td>0.181916</td>\n",
       "      <td>1.811261</td>\n",
       "    </tr>\n",
       "  </tbody>\n",
       "</table>\n",
       "</div>"
      ],
      "text/plain": [
       "          0         1         2         3         4         5\n",
       "0 -1.752077  1.017393  1.477761  1.003040  0.166298 -0.135647\n",
       "1 -2.196159  2.293093  1.765069 -0.685330 -0.060659  0.401942\n",
       "2  0.531395 -0.056742 -0.921771  0.103939  0.046279  0.866104\n",
       "3 -0.636005 -2.149484 -0.639144 -1.612028 -0.354321  0.463397\n",
       "4 -1.096050 -1.135257  0.913026  1.186977 -0.542038  0.847066\n",
       "5  0.453183  1.668842 -1.569877  0.179114  0.181916  1.811261"
      ]
     },
     "execution_count": 115,
     "metadata": {},
     "output_type": "execute_result"
    }
   ],
   "source": [
    "df = pd.DataFrame(np.random.randn(6, 6))\n",
    "\n",
    "pd.set_option(\"chop_threshold\", 0)\n",
    "\n",
    "df"
   ]
  },
  {
   "cell_type": "code",
   "execution_count": 116,
   "metadata": {},
   "outputs": [
    {
     "data": {
      "text/html": [
       "<div>\n",
       "<style scoped>\n",
       "    .dataframe tbody tr th:only-of-type {\n",
       "        vertical-align: middle;\n",
       "    }\n",
       "\n",
       "    .dataframe tbody tr th {\n",
       "        vertical-align: top;\n",
       "    }\n",
       "\n",
       "    .dataframe thead th {\n",
       "        text-align: right;\n",
       "    }\n",
       "</style>\n",
       "<table border=\"1\" class=\"dataframe\">\n",
       "  <thead>\n",
       "    <tr style=\"text-align: right;\">\n",
       "      <th></th>\n",
       "      <th>0</th>\n",
       "      <th>1</th>\n",
       "      <th>2</th>\n",
       "      <th>3</th>\n",
       "      <th>4</th>\n",
       "      <th>5</th>\n",
       "    </tr>\n",
       "  </thead>\n",
       "  <tbody>\n",
       "    <tr>\n",
       "      <th>0</th>\n",
       "      <td>-1.752077</td>\n",
       "      <td>1.017393</td>\n",
       "      <td>1.477761</td>\n",
       "      <td>1.003040</td>\n",
       "      <td>0.000000</td>\n",
       "      <td>0.000000</td>\n",
       "    </tr>\n",
       "    <tr>\n",
       "      <th>1</th>\n",
       "      <td>-2.196159</td>\n",
       "      <td>2.293093</td>\n",
       "      <td>1.765069</td>\n",
       "      <td>-0.685330</td>\n",
       "      <td>0.000000</td>\n",
       "      <td>0.000000</td>\n",
       "    </tr>\n",
       "    <tr>\n",
       "      <th>2</th>\n",
       "      <td>0.531395</td>\n",
       "      <td>0.000000</td>\n",
       "      <td>-0.921771</td>\n",
       "      <td>0.000000</td>\n",
       "      <td>0.000000</td>\n",
       "      <td>0.866104</td>\n",
       "    </tr>\n",
       "    <tr>\n",
       "      <th>3</th>\n",
       "      <td>-0.636005</td>\n",
       "      <td>-2.149484</td>\n",
       "      <td>-0.639144</td>\n",
       "      <td>-1.612028</td>\n",
       "      <td>0.000000</td>\n",
       "      <td>0.000000</td>\n",
       "    </tr>\n",
       "    <tr>\n",
       "      <th>4</th>\n",
       "      <td>-1.096050</td>\n",
       "      <td>-1.135257</td>\n",
       "      <td>0.913026</td>\n",
       "      <td>1.186977</td>\n",
       "      <td>-0.542038</td>\n",
       "      <td>0.847066</td>\n",
       "    </tr>\n",
       "    <tr>\n",
       "      <th>5</th>\n",
       "      <td>0.000000</td>\n",
       "      <td>1.668842</td>\n",
       "      <td>-1.569877</td>\n",
       "      <td>0.000000</td>\n",
       "      <td>0.000000</td>\n",
       "      <td>1.811261</td>\n",
       "    </tr>\n",
       "  </tbody>\n",
       "</table>\n",
       "</div>"
      ],
      "text/plain": [
       "          0         1         2         3         4         5\n",
       "0 -1.752077  1.017393  1.477761  1.003040  0.000000  0.000000\n",
       "1 -2.196159  2.293093  1.765069 -0.685330  0.000000  0.000000\n",
       "2  0.531395  0.000000 -0.921771  0.000000  0.000000  0.866104\n",
       "3 -0.636005 -2.149484 -0.639144 -1.612028  0.000000  0.000000\n",
       "4 -1.096050 -1.135257  0.913026  1.186977 -0.542038  0.847066\n",
       "5  0.000000  1.668842 -1.569877  0.000000  0.000000  1.811261"
      ]
     },
     "execution_count": 116,
     "metadata": {},
     "output_type": "execute_result"
    }
   ],
   "source": [
    "pd.set_option(\"chop_threshold\", 0.5)\n",
    "\n",
    "df"
   ]
  },
  {
   "cell_type": "code",
   "execution_count": 117,
   "metadata": {},
   "outputs": [],
   "source": [
    "pd.reset_option(\"chop_threshold\")"
   ]
  },
  {
   "cell_type": "markdown",
   "metadata": {},
   "source": [
    "- <font color='pink'> colheader_justify  ile veri setininin görüntülenmesinin nasıl etkilendiğini inceleyelim. Görüleceği üzere bir DataFrame görüntülediğinde kolon başlıklarının sağa veya sola yaslanması ile ilgili ayarlar yapılır."
   ]
  },
  {
   "cell_type": "code",
   "execution_count": 118,
   "metadata": {},
   "outputs": [],
   "source": [
    "df = pd.DataFrame(\n",
    "    np.array([np.random.randn(6), np.random.randint(1, 9, 6) * 0.1, np.zeros(6)]).T,\n",
    "    columns=[\"A\", \"B\", \"C\"],\n",
    "    dtype=\"float\",\n",
    ")\n",
    "\n"
   ]
  },
  {
   "cell_type": "code",
   "execution_count": 119,
   "metadata": {},
   "outputs": [
    {
     "data": {
      "text/html": [
       "<div>\n",
       "<style scoped>\n",
       "    .dataframe tbody tr th:only-of-type {\n",
       "        vertical-align: middle;\n",
       "    }\n",
       "\n",
       "    .dataframe tbody tr th {\n",
       "        vertical-align: top;\n",
       "    }\n",
       "\n",
       "    .dataframe thead th {\n",
       "        text-align: right;\n",
       "    }\n",
       "</style>\n",
       "<table border=\"1\" class=\"dataframe\">\n",
       "  <thead>\n",
       "    <tr style=\"text-align: right;\">\n",
       "      <th></th>\n",
       "      <th>A</th>\n",
       "      <th>B</th>\n",
       "      <th>C</th>\n",
       "    </tr>\n",
       "  </thead>\n",
       "  <tbody>\n",
       "    <tr>\n",
       "      <th>0</th>\n",
       "      <td>-0.330601</td>\n",
       "      <td>0.8</td>\n",
       "      <td>0.0</td>\n",
       "    </tr>\n",
       "    <tr>\n",
       "      <th>1</th>\n",
       "      <td>-0.029762</td>\n",
       "      <td>0.3</td>\n",
       "      <td>0.0</td>\n",
       "    </tr>\n",
       "    <tr>\n",
       "      <th>2</th>\n",
       "      <td>0.365060</td>\n",
       "      <td>0.4</td>\n",
       "      <td>0.0</td>\n",
       "    </tr>\n",
       "    <tr>\n",
       "      <th>3</th>\n",
       "      <td>-0.283164</td>\n",
       "      <td>0.6</td>\n",
       "      <td>0.0</td>\n",
       "    </tr>\n",
       "    <tr>\n",
       "      <th>4</th>\n",
       "      <td>-0.627206</td>\n",
       "      <td>0.1</td>\n",
       "      <td>0.0</td>\n",
       "    </tr>\n",
       "    <tr>\n",
       "      <th>5</th>\n",
       "      <td>-0.215437</td>\n",
       "      <td>0.2</td>\n",
       "      <td>0.0</td>\n",
       "    </tr>\n",
       "  </tbody>\n",
       "</table>\n",
       "</div>"
      ],
      "text/plain": [
       "          A    B    C\n",
       "0 -0.330601  0.8  0.0\n",
       "1 -0.029762  0.3  0.0\n",
       "2  0.365060  0.4  0.0\n",
       "3 -0.283164  0.6  0.0\n",
       "4 -0.627206  0.1  0.0\n",
       "5 -0.215437  0.2  0.0"
      ]
     },
     "execution_count": 119,
     "metadata": {},
     "output_type": "execute_result"
    }
   ],
   "source": [
    "pd.set_option(\"colheader_justify\", \"right\")\n",
    "df"
   ]
  },
  {
   "cell_type": "code",
   "execution_count": 120,
   "metadata": {},
   "outputs": [
    {
     "data": {
      "text/html": [
       "<div>\n",
       "<style scoped>\n",
       "    .dataframe tbody tr th:only-of-type {\n",
       "        vertical-align: middle;\n",
       "    }\n",
       "\n",
       "    .dataframe tbody tr th {\n",
       "        vertical-align: top;\n",
       "    }\n",
       "\n",
       "    .dataframe thead th {\n",
       "        text-align: right;\n",
       "    }\n",
       "</style>\n",
       "<table border=\"1\" class=\"dataframe\">\n",
       "  <thead>\n",
       "    <tr style=\"text-align: left;\">\n",
       "      <th></th>\n",
       "      <th>A</th>\n",
       "      <th>B</th>\n",
       "      <th>C</th>\n",
       "    </tr>\n",
       "  </thead>\n",
       "  <tbody>\n",
       "    <tr>\n",
       "      <th>0</th>\n",
       "      <td>-0.330601</td>\n",
       "      <td>0.8</td>\n",
       "      <td>0.0</td>\n",
       "    </tr>\n",
       "    <tr>\n",
       "      <th>1</th>\n",
       "      <td>-0.029762</td>\n",
       "      <td>0.3</td>\n",
       "      <td>0.0</td>\n",
       "    </tr>\n",
       "    <tr>\n",
       "      <th>2</th>\n",
       "      <td>0.365060</td>\n",
       "      <td>0.4</td>\n",
       "      <td>0.0</td>\n",
       "    </tr>\n",
       "    <tr>\n",
       "      <th>3</th>\n",
       "      <td>-0.283164</td>\n",
       "      <td>0.6</td>\n",
       "      <td>0.0</td>\n",
       "    </tr>\n",
       "    <tr>\n",
       "      <th>4</th>\n",
       "      <td>-0.627206</td>\n",
       "      <td>0.1</td>\n",
       "      <td>0.0</td>\n",
       "    </tr>\n",
       "    <tr>\n",
       "      <th>5</th>\n",
       "      <td>-0.215437</td>\n",
       "      <td>0.2</td>\n",
       "      <td>0.0</td>\n",
       "    </tr>\n",
       "  </tbody>\n",
       "</table>\n",
       "</div>"
      ],
      "text/plain": [
       "   A         B    C  \n",
       "0 -0.330601  0.8  0.0\n",
       "1 -0.029762  0.3  0.0\n",
       "2  0.365060  0.4  0.0\n",
       "3 -0.283164  0.6  0.0\n",
       "4 -0.627206  0.1  0.0\n",
       "5 -0.215437  0.2  0.0"
      ]
     },
     "execution_count": 120,
     "metadata": {},
     "output_type": "execute_result"
    }
   ],
   "source": [
    "pd.set_option(\"colheader_justify\", \"left\")\n",
    "df"
   ]
  },
  {
   "cell_type": "code",
   "execution_count": 88,
   "metadata": {},
   "outputs": [],
   "source": [
    "pd.reset_option(\"colheader_justify\")"
   ]
  },
  {
   "cell_type": "markdown",
   "metadata": {},
   "source": [
    "<font color='orange'><b>Pandas ayrıca sayıların konsolda nasıl görüntüleneceğini ayarlamanıza da olanak tanır. Bu değişiklikler, set_options API aracılığıyla ayarlanmaz.</b> </font> "
   ]
  },
  {
   "cell_type": "code",
   "execution_count": 137,
   "metadata": {},
   "outputs": [],
   "source": [
    "import numpy as np"
   ]
  },
  {
   "cell_type": "code",
   "execution_count": 138,
   "metadata": {},
   "outputs": [
    {
     "data": {
      "text/plain": [
       "a    0.665441\n",
       "b    1.553350\n",
       "c   -0.359345\n",
       "d    0.004056\n",
       "e    2.084102\n",
       "dtype: float64"
      ]
     },
     "execution_count": 138,
     "metadata": {},
     "output_type": "execute_result"
    }
   ],
   "source": [
    "np.random.RandomState(2)\n",
    "seri = pd.Series(np.random.randn(5), index=[\"a\", \"b\", \"c\", \"d\", \"e\"])\n",
    "seri"
   ]
  },
  {
   "cell_type": "code",
   "execution_count": 139,
   "metadata": {},
   "outputs": [],
   "source": [
    "pd.set_eng_float_format(accuracy=3, use_eng_prefix=True)"
   ]
  },
  {
   "cell_type": "code",
   "execution_count": 140,
   "metadata": {},
   "outputs": [
    {
     "data": {
      "text/plain": [
       "a    665.441m\n",
       "b       1.553\n",
       "c   -359.345m\n",
       "d      4.056m\n",
       "e       2.084\n",
       "dtype: float64"
      ]
     },
     "execution_count": 140,
     "metadata": {},
     "output_type": "execute_result"
    }
   ],
   "source": [
    "seri"
   ]
  },
  {
   "cell_type": "code",
   "execution_count": 141,
   "metadata": {},
   "outputs": [
    {
     "data": {
      "text/plain": [
       "a    665.441u\n",
       "b      1.553m\n",
       "c   -359.345u\n",
       "d      4.056u\n",
       "e      2.084m\n",
       "dtype: float64"
      ]
     },
     "execution_count": 141,
     "metadata": {},
     "output_type": "execute_result"
    }
   ],
   "source": [
    "seri / 1.0e3"
   ]
  },
  {
   "cell_type": "code",
   "execution_count": 151,
   "metadata": {},
   "outputs": [],
   "source": [
    "pd.reset_option(\"^display\")"
   ]
  },
  {
   "cell_type": "code",
   "execution_count": null,
   "metadata": {},
   "outputs": [],
   "source": []
  }
 ],
 "metadata": {
  "interpreter": {
   "hash": "b89b5cfaba6639976dc87ff2fec6d58faec662063367e2c229c520fe71072417"
  },
  "kernelspec": {
   "display_name": "Python 3.10.0 64-bit",
   "language": "python",
   "name": "python3"
  },
  "language_info": {
   "codemirror_mode": {
    "name": "ipython",
    "version": 3
   },
   "file_extension": ".py",
   "mimetype": "text/x-python",
   "name": "python",
   "nbconvert_exporter": "python",
   "pygments_lexer": "ipython3",
   "version": "3.10.0"
  },
  "orig_nbformat": 4
 },
 "nbformat": 4,
 "nbformat_minor": 2
}
