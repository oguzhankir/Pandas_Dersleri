{
 "cells": [
  {
   "cell_type": "markdown",
   "metadata": {},
   "source": [
    "# Pandas Serileri Egzersizleri"
   ]
  },
  {
   "cell_type": "markdown",
   "metadata": {},
   "source": [
    "Not: Pandasta daha ileri seviye işlemlere geçmeden önce buraya kadar gördüğümüz kısımlarda eksik kalmasın istedim. Bu nedenle böyle bir egzersiz dosyası hazırladım. Notebookdaki soruları ve daha fazlasını internette bulabilirsiniz. Pandasta pratik yapmak en önemli şeydir. Bu nedenle bu notebookun boş halini ve çözümlü halini ayrı ayrı yükleyeceğim. Videoyu izledikten sonra pratik yapabileceksiniz."
   ]
  },
  {
   "cell_type": "code",
   "execution_count": 1,
   "metadata": {},
   "outputs": [],
   "source": [
    "import pandas as pd\n",
    "import numpy as np"
   ]
  },
  {
   "cell_type": "markdown",
   "metadata": {},
   "source": [
    "##### **Egzersiz-1**\n",
    "Bir boyutlu, float değerlerden oluşan bir pandas serisi yazın ve görüntüleyin."
   ]
  },
  {
   "cell_type": "code",
   "execution_count": null,
   "metadata": {},
   "outputs": [],
   "source": []
  },
  {
   "cell_type": "markdown",
   "metadata": {},
   "source": [
    "##### **Egzersiz-2**\n",
    "Yazdığınız bir boyutlu pandas serisini python listesine dönüştürün ve veri tipini yazdırın."
   ]
  },
  {
   "cell_type": "code",
   "execution_count": null,
   "metadata": {},
   "outputs": [],
   "source": []
  },
  {
   "cell_type": "markdown",
   "metadata": {},
   "source": [
    "##### **Egzersiz-3**\n",
    "İki pandas serisini toplayın, çıkarın, çarpın, bölün."
   ]
  },
  {
   "cell_type": "code",
   "execution_count": null,
   "metadata": {},
   "outputs": [],
   "source": []
  },
  {
   "cell_type": "markdown",
   "metadata": {},
   "source": [
    "##### **Egzersiz-4**\n",
    "İki pandas serisinin ögelerini karşılaştırın.\n",
    "\n",
    "seri1 = pd.Series([2, 4, 6, 8, 10])\n",
    "\n",
    "seri2 = pd.Series([1, 3, 5, 7, 9])"
   ]
  },
  {
   "cell_type": "code",
   "execution_count": null,
   "metadata": {},
   "outputs": [],
   "source": []
  },
  {
   "cell_type": "markdown",
   "metadata": {},
   "source": [
    "##### **Egzersiz-5**\n",
    "Aşağıdaki sözlük halindeki verileri pandas serisine çevirin.\n",
    "\n",
    "dictionary = {'a': 100, 'b': 200, 'c': 300, 'd': 400, 'e': 800}\n"
   ]
  },
  {
   "cell_type": "code",
   "execution_count": null,
   "metadata": {},
   "outputs": [],
   "source": []
  },
  {
   "cell_type": "markdown",
   "metadata": {},
   "source": [
    "##### **Egzersiz-6**\n",
    "Aşağıdaki numpy dizisini pandas serisine çevirin.\n",
    "\n",
    "np_array = np.array([10, 20, 30, 40, 50])"
   ]
  },
  {
   "cell_type": "code",
   "execution_count": null,
   "metadata": {},
   "outputs": [],
   "source": []
  },
  {
   "cell_type": "markdown",
   "metadata": {},
   "source": [
    "##### **Egzersiz-7**\n",
    "Aşağıdaki serinin değerlerini nümerik yapın.\n",
    "\n",
    "seri =  pd.Series(['100', '200', 'python', '300.12', '400'])"
   ]
  },
  {
   "cell_type": "code",
   "execution_count": null,
   "metadata": {},
   "outputs": [],
   "source": []
  },
  {
   "cell_type": "markdown",
   "metadata": {},
   "source": [
    "errors : {‘ignore’, ‘raise’, ‘coerce’}, default ‘raise’\n"
   ]
  },
  {
   "cell_type": "markdown",
   "metadata": {},
   "source": [
    "##### **Egzersiz-8**\n",
    "Aşağıdaki seriyi numpy array ine çevirin.\n",
    "\n",
    "seri = pd.Series(['100', '200', 'python', '300.12', '400'])"
   ]
  },
  {
   "cell_type": "code",
   "execution_count": null,
   "metadata": {},
   "outputs": [],
   "source": []
  },
  {
   "cell_type": "markdown",
   "metadata": {},
   "source": [
    "##### **Egzersiz-9**\n",
    "Aşağıdaki listelerin serisi şeklindeki seriyi tek bir seri haline getirin.\n",
    "\n",
    "seri = pd.Series([['Red', 'Green', 'White'],['Red', 'Black'],['Yellow']])"
   ]
  },
  {
   "cell_type": "code",
   "execution_count": null,
   "metadata": {},
   "outputs": [],
   "source": []
  },
  {
   "cell_type": "code",
   "execution_count": null,
   "metadata": {},
   "outputs": [],
   "source": []
  },
  {
   "cell_type": "markdown",
   "metadata": {},
   "source": [
    "Lütfen detaylı bilgi için pandas dökümantasyonunu okuyun.\n",
    "[apply()](https://pandas.pydata.org/docs/reference/api/pandas.Series.apply.html?highlight=apply#pandas.Series.apply) [stack()](https://pandas.pydata.org/docs/reference/api/pandas.DataFrame.stack.html)  [reset_index()](https://pandas.pydata.org/docs/reference/api/pandas.DataFrame.reset_index.html)"
   ]
  },
  {
   "cell_type": "markdown",
   "metadata": {},
   "source": [
    "##### **Egzersiz-10**\n",
    "Aşağıdaki seriyi büyükten küçüğe sıralayın.\n",
    "\n",
    "seri = pd.Series([200, 350, 342, 2543, 233, 42])"
   ]
  },
  {
   "cell_type": "code",
   "execution_count": null,
   "metadata": {},
   "outputs": [],
   "source": []
  },
  {
   "cell_type": "markdown",
   "metadata": {},
   "source": [
    "##### **Egzersiz-11**\n",
    "Aşağıdaki seriye yeni değerler ekleyin ve indekslerini düzenleyin\n",
    "\n",
    "seri = pd.Series([200, 350, 342, 2543, 233, 42])"
   ]
  },
  {
   "cell_type": "code",
   "execution_count": null,
   "metadata": {},
   "outputs": [],
   "source": []
  },
  {
   "cell_type": "markdown",
   "metadata": {},
   "source": [
    "##### **Egzersiz-12**\n",
    "Aşağıdaki serinin 5 ten büyük değerleri için bir alt kümesini oluşturun.\n",
    "\n",
    "seri = pd.Series([0,1,2,3,4,5,6,7,8,9,10])\n"
   ]
  },
  {
   "cell_type": "code",
   "execution_count": null,
   "metadata": {},
   "outputs": [],
   "source": []
  },
  {
   "cell_type": "markdown",
   "metadata": {},
   "source": [
    "##### **Egzersiz-13**\n",
    "Aşağıdaki serinin indeks sıralamasını değiştirin.\n",
    "\n",
    "seri = pd.Series(data = [1,2,3,4,5], index = ['A', 'B', 'C','D','E'])\n"
   ]
  },
  {
   "cell_type": "code",
   "execution_count": null,
   "metadata": {},
   "outputs": [],
   "source": []
  },
  {
   "cell_type": "markdown",
   "metadata": {},
   "source": [
    "##### **Egzersiz-14**\n",
    "Aşağıdaki serinin ortalamasını ve standart sapmasını hesaplayın.\n",
    "\n",
    "seri = pd.Series([1,2,3,4,5,6,7,8,9,5,3])\n"
   ]
  },
  {
   "cell_type": "code",
   "execution_count": null,
   "metadata": {},
   "outputs": [],
   "source": []
  },
  {
   "cell_type": "markdown",
   "metadata": {},
   "source": [
    "##### **Egzersiz-15**\n",
    "Tamsayılardan oluşan rastgele bir seri oluşturun ve o seride en çok tekrar eden sayıyı bulun.\n",
    "\n",
    "seri = pd.Series([1,2,3,4,5,6,7,8,9,5,3])\n"
   ]
  },
  {
   "cell_type": "code",
   "execution_count": null,
   "metadata": {},
   "outputs": [],
   "source": []
  },
  {
   "cell_type": "markdown",
   "metadata": {},
   "source": [
    "##### **Egzersiz-16**\n",
    "Aşağıdaki seriden istenen indexdeki değerleri çıkarın.\n",
    "\n",
    "seri = pd.Series(list('2390238923902390239023'))\n",
    "\n",
    "çıkarılacaklar = [0, 2, 6, 11, 21] - Yani 2, 9, 8, 0, 3 değerlerini istiyor\n"
   ]
  },
  {
   "cell_type": "code",
   "execution_count": null,
   "metadata": {},
   "outputs": [],
   "source": []
  },
  {
   "cell_type": "markdown",
   "metadata": {},
   "source": [
    "##### **Egzersiz-17**\n",
    "Aşağıdaki serilerden ikincisindeki değerleri alın. Örneğin aldığınız ilk değerin 3 ise ilk listede 3 değerini bulun ve indeksini alın. Bütün indeksleri bir liste haline getirin.\n",
    "\n",
    "seri1 = pd.Series([1, 2, 3, 4, 5, 6, 7, 8, 9, 10])\n",
    "\n",
    "seri2 = pd.Series([1, 3, 5, 7, 9])\n",
    "\n"
   ]
  },
  {
   "cell_type": "code",
   "execution_count": null,
   "metadata": {},
   "outputs": [],
   "source": []
  },
  {
   "cell_type": "markdown",
   "metadata": {},
   "source": [
    "##### **Egzersiz-18**\n",
    "Aşağıdaki iki seriyi yan yana birleştirin.\n",
    "\n",
    "seri1 = pd.Series(range(10))\n",
    "\n",
    "seri2 = pd.Series(list('pqrstuvwxy'))\n",
    "\n"
   ]
  },
  {
   "cell_type": "code",
   "execution_count": null,
   "metadata": {},
   "outputs": [],
   "source": []
  },
  {
   "cell_type": "markdown",
   "metadata": {},
   "source": [
    "##### **Egzersiz-19**\n",
    "Aşağıdaki iki seri arasındaki [Öklid uzaklığını](https://tr.wikipedia.org/wiki/%C3%96klid_uzakl%C4%B1%C4%9F%C4%B1) hesaplayın hesaplayın.\n",
    "\n",
    "x = pd.Series([1, 2, 3, 4, 5, 6, 7, 8, 9, 10])\n",
    "\n",
    "y = pd.Series([11, 8, 7, 5, 6, 5, 3, 4, 7, 1])\n"
   ]
  },
  {
   "cell_type": "code",
   "execution_count": null,
   "metadata": {},
   "outputs": [],
   "source": []
  },
  {
   "cell_type": "code",
   "execution_count": null,
   "metadata": {},
   "outputs": [],
   "source": []
  }
 ],
 "metadata": {
  "interpreter": {
   "hash": "b89b5cfaba6639976dc87ff2fec6d58faec662063367e2c229c520fe71072417"
  },
  "kernelspec": {
   "display_name": "Python 3 (ipykernel)",
   "language": "python",
   "name": "python3"
  },
  "language_info": {
   "codemirror_mode": {
    "name": "ipython",
    "version": 3
   },
   "file_extension": ".py",
   "mimetype": "text/x-python",
   "name": "python",
   "nbconvert_exporter": "python",
   "pygments_lexer": "ipython3",
   "version": "3.10.0"
  }
 },
 "nbformat": 4,
 "nbformat_minor": 2
}
