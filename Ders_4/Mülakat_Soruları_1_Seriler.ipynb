{
 "cells": [
  {
   "cell_type": "markdown",
   "metadata": {},
   "source": [
    "# <font color='red'>Pandas Data Serileri Egzersizleri</font>"
   ]
  },
  {
   "cell_type": "markdown",
   "metadata": {},
   "source": [
    "<font color='red'>Not</font>: Pandasta daha gelişmiş fonksiyonların kullanımına geçmeden önce buraya kadar gördüğümüz kısımlarda eksik kalmasın istedim. Bu nedenle böyle bir egzersiz dosyası hazırladım. Bir veri bilimi işine başvurduğunuzda size mülakatta pandas ile ilgili sorabilecekleri soruları internetten bulup, kolay-orta zorluklakileri seçtim. Videoyu izlemeden önce soruları çözmeyi denemenizi ve daha sonra yapamadığınız kısım olursa videodan takip etmenizi öneririm."
   ]
  },
  {
   "cell_type": "code",
   "execution_count": 2,
   "metadata": {},
   "outputs": [],
   "source": [
    "import pandas as pd\n",
    "import numpy as np"
   ]
  },
  {
   "cell_type": "markdown",
   "metadata": {},
   "source": [
    "##### <font color='red'>**Egzersiz-1**</font>\n",
    "Bir boyutlu, float değerlerden oluşan bir pandas serisi yazın ve görüntüleyin."
   ]
  },
  {
   "cell_type": "code",
   "execution_count": 3,
   "metadata": {},
   "outputs": [
    {
     "name": "stdout",
     "output_type": "stream",
     "text": [
      "0    1.0\n",
      "1    2.0\n",
      "2    3.0\n",
      "3    4.0\n",
      "dtype: float64\n"
     ]
    }
   ],
   "source": [
    "seri = pd.Series([1.0, 2.0, 3.0, 4.0])\n",
    "print(seri)"
   ]
  },
  {
   "cell_type": "markdown",
   "metadata": {},
   "source": [
    "##### <font color='red'>**Egzersiz-2**</font>\n",
    "Yazdığınız bir boyutlu pandas serisini python listesine dönüştürün ve veri tipini yazdırın."
   ]
  },
  {
   "cell_type": "code",
   "execution_count": 4,
   "metadata": {},
   "outputs": [
    {
     "name": "stdout",
     "output_type": "stream",
     "text": [
      "<class 'pandas.core.series.Series'>\n",
      "[1.0, 2.0, 3.0, 4.0]\n",
      "<class 'list'>\n"
     ]
    }
   ],
   "source": [
    "seri = pd.Series([1.0, 2.0, 3.0, 4.0])\n",
    "\n",
    "seri_liste = seri.to_list()\n",
    "\n",
    "print(type(seri))\n",
    "\n",
    "print(seri_liste)\n",
    "\n",
    "print(type(seri_liste))"
   ]
  },
  {
   "cell_type": "markdown",
   "metadata": {},
   "source": [
    "##### <font color='red'>**Egzersiz-3**</font>\n",
    "İki pandas serisini toplayın, çıkarın, çarpın, bölün."
   ]
  },
  {
   "cell_type": "code",
   "execution_count": 6,
   "metadata": {},
   "outputs": [
    {
     "name": "stdout",
     "output_type": "stream",
     "text": [
      "iki serinin toplamı \n",
      " 0     5\n",
      "1     9\n",
      "2    12\n",
      "3    16\n",
      "4    10\n",
      "dtype: int64\n"
     ]
    }
   ],
   "source": [
    "seri1 = pd.Series([2, 4, 5, 7, 8])\n",
    "seri2 = pd.Series([3, 5, 7, 9, 2])\n",
    "\n",
    "seri_toplam = seri1+seri2\n",
    "\n",
    "seri_carpim = seri1*seri2\n",
    "\n",
    "print(f\"iki serinin toplamı \\n {seri_toplam}\")"
   ]
  },
  {
   "cell_type": "markdown",
   "metadata": {},
   "source": [
    "##### <font color='red'>**Egzersiz-4**</font>\n",
    "İki pandas serisinin ögelerini karşılaştırın."
   ]
  },
  {
   "cell_type": "code",
   "execution_count": 7,
   "metadata": {},
   "outputs": [
    {
     "name": "stdout",
     "output_type": "stream",
     "text": [
      "Eşitlik \n",
      "\n",
      "0    False\n",
      "1    False\n",
      "2    False\n",
      "3    False\n",
      "4    False\n",
      "dtype: bool\n",
      "Büyüklük-küçüklük\n",
      "0    False\n",
      "1    False\n",
      "2    False\n",
      "3    False\n",
      "4     True\n",
      "dtype: bool\n"
     ]
    }
   ],
   "source": [
    "seri1 = pd.Series([2, 4, 5, 7, 8])\n",
    "seri2 = pd.Series([3, 5, 7, 9, 2])\n",
    "\n",
    "print(\"Eşitlik \\n\")\n",
    "print(seri1 == seri2)\n",
    "\n",
    "print(\"Büyüklük-küçüklük\")\n",
    "print(seri1 > seri2)"
   ]
  },
  {
   "cell_type": "markdown",
   "metadata": {},
   "source": [
    "##### <font color='red'>**Egzersiz-5**</font>\n",
    "Aşağıdaki sözlük halindeki verileri pandas serisine çevirin.\n",
    "\n",
    "dictionary = {'a': 100, 'b': 200, 'c': 300, 'd': 400, 'e': 800}\n"
   ]
  },
  {
   "cell_type": "code",
   "execution_count": 9,
   "metadata": {},
   "outputs": [
    {
     "name": "stdout",
     "output_type": "stream",
     "text": [
      "<class 'pandas.core.series.Series'>\n"
     ]
    }
   ],
   "source": [
    "dictionary = {'a': 100, 'b': 200, 'c': 300, 'd': 400, 'e': 800}\n",
    "\n",
    "seri = pd.Series(dictionary)\n",
    "\n",
    "print(type(seri))"
   ]
  },
  {
   "cell_type": "markdown",
   "metadata": {},
   "source": [
    "##### <font color='red'>**Egzersiz-6**</font>\n",
    "Aşağıdaki numpy dizisini pandas serisine çevirin.\n",
    "\n",
    "np_array = np.array([10, 20, 30, 40, 50])"
   ]
  },
  {
   "cell_type": "code",
   "execution_count": 10,
   "metadata": {},
   "outputs": [
    {
     "name": "stdout",
     "output_type": "stream",
     "text": [
      "<class 'pandas.core.series.Series'>\n"
     ]
    }
   ],
   "source": [
    "np_array = np.array([10, 20, 30, 40, 50])\n",
    "\n",
    "seri = pd.Series(np_array)\n",
    "\n",
    "print(type(seri))"
   ]
  },
  {
   "cell_type": "markdown",
   "metadata": {},
   "source": [
    "##### <font color='red'>**Egzersiz-7**</font>\n",
    "Aşağıdaki serinin değerlerini nümerik yapın.\n",
    "\n",
    "seri =  pd.Series(['100', '200', 'python', '300.12', '400'])"
   ]
  },
  {
   "cell_type": "code",
   "execution_count": 14,
   "metadata": {},
   "outputs": [
    {
     "name": "stdout",
     "output_type": "stream",
     "text": [
      "0       100\n",
      "1       200\n",
      "2    python\n",
      "3    300.12\n",
      "4       400\n",
      "dtype: object\n"
     ]
    }
   ],
   "source": [
    "seri =  pd.Series(['100', '200', 'python', '300.12', '400'])\n",
    "\n",
    "nümerik_seri = pd.to_numeric(seri, errors = \"ignore\")\n",
    "\n",
    "print(nümerik_seri)"
   ]
  },
  {
   "cell_type": "markdown",
   "metadata": {},
   "source": [
    "errors : {‘ignore’, ‘raise’, ‘coerce’}, default ‘raise’"
   ]
  },
  {
   "cell_type": "markdown",
   "metadata": {},
   "source": [
    "##### <font color='red'>**Egzersiz-8**</font>\n",
    "Aşağıdaki seriyi numpy array ine çevirin.\n",
    "\n",
    "seri = pd.Series(['100', '200', 'python', '300.12', '400'])"
   ]
  },
  {
   "cell_type": "code",
   "execution_count": 17,
   "metadata": {},
   "outputs": [
    {
     "name": "stdout",
     "output_type": "stream",
     "text": [
      "['100', '200', 'python', '300.12', '400']\n",
      "['100' '200' 'python' '300.12' '400']\n",
      "<class 'numpy.ndarray'>\n"
     ]
    }
   ],
   "source": [
    "seri = pd.Series(['100', '200', 'python', '300.12', '400'])\n",
    "\n",
    "print(seri.values.tolist())\n",
    "np_seri = np.array(seri.values.tolist())\n",
    "\n",
    "print(np_seri)\n",
    "print(type(np_seri))"
   ]
  },
  {
   "cell_type": "markdown",
   "metadata": {},
   "source": [
    "##### <font color='red'>**Egzersiz-9**</font>\n",
    "Aşağıdaki listelerin serisi şeklindeki seriyi tek bir seri haline getirin.\n",
    "\n",
    "seri = pd.Series([['Red', 'Green', 'White'],['Red', 'Black'],['Yellow']])"
   ]
  },
  {
   "cell_type": "code",
   "execution_count": 22,
   "metadata": {},
   "outputs": [
    {
     "name": "stdout",
     "output_type": "stream",
     "text": [
      "0       Red\n",
      "1     Green\n",
      "2     White\n",
      "3       Red\n",
      "4     Black\n",
      "5    Yellow\n",
      "dtype: object\n"
     ]
    }
   ],
   "source": [
    "seri = pd.Series([['Red', 'Green', 'White'],['Red', 'Black'],['Yellow']])\n",
    "tek_seri = seri.apply(pd.Series).stack().reset_index(drop = True)\n",
    "\n",
    "print(tek_seri)\n"
   ]
  },
  {
   "cell_type": "code",
   "execution_count": 24,
   "metadata": {},
   "outputs": [
    {
     "data": {
      "text/plain": [
       "0    False\n",
       "1     True\n",
       "2    False\n",
       "dtype: bool"
      ]
     },
     "execution_count": 24,
     "metadata": {},
     "output_type": "execute_result"
    }
   ],
   "source": [
    "def fonksiyon(a, b, c):\n",
    "    if a * b + c >200:\n",
    "        return (True)\n",
    "\n",
    "    else:\n",
    "        return False\n",
    "\n",
    "seri = pd.Series([3, 7, 5])\n",
    "\n",
    "seri.apply(fonksiyon, args = [30, 50])"
   ]
  },
  {
   "cell_type": "markdown",
   "metadata": {},
   "source": [
    "Lütfen detaylı bilgi için pandas dökümantasyonunu okuyun.\n",
    "[apply()](https://pandas.pydata.org/docs/reference/api/pandas.Series.apply.html?highlight=apply#pandas.Series.apply) [stack()](https://pandas.pydata.org/docs/reference/api/pandas.DataFrame.stack.html)  [reset_index()](https://pandas.pydata.org/docs/reference/api/pandas.DataFrame.reset_index.html)"
   ]
  },
  {
   "cell_type": "markdown",
   "metadata": {},
   "source": [
    "##### <font color='red'>**Egzersiz-10**</font>\n",
    "Aşağıdaki seriyi büyükten küçüğe sıralayın.\n",
    "\n",
    "seri = pd.Series([200, 350, 342, 2543, 233, 42])"
   ]
  },
  {
   "cell_type": "code",
   "execution_count": 26,
   "metadata": {},
   "outputs": [
    {
     "name": "stdout",
     "output_type": "stream",
     "text": [
      "5      42\n",
      "0     200\n",
      "4     233\n",
      "2     342\n",
      "1     350\n",
      "3    2543\n",
      "dtype: int64\n"
     ]
    }
   ],
   "source": [
    "seri = pd.Series([200, 350, 342, 2543, 233, 42])\n",
    "\n",
    "yeni_seri = seri.sort_values(ascending=True)\n",
    "print(yeni_seri)"
   ]
  },
  {
   "cell_type": "markdown",
   "metadata": {},
   "source": [
    "##### <font color='red'>**Egzersiz-11**</font>\n",
    "Aşağıdaki seriye yeni değerler ekleyin ve indekslerini düzenleyin\n",
    "\n",
    "seri = pd.Series([200, 350, 342, 2543, 233, 42])"
   ]
  },
  {
   "cell_type": "code",
   "execution_count": 28,
   "metadata": {},
   "outputs": [
    {
     "data": {
      "text/plain": [
       "0     200\n",
       "1     350\n",
       "2     342\n",
       "3    2543\n",
       "4     233\n",
       "5      42\n",
       "0      52\n",
       "1      üç\n",
       "dtype: object"
      ]
     },
     "execution_count": 28,
     "metadata": {},
     "output_type": "execute_result"
    }
   ],
   "source": [
    "seri = pd.Series([200, 350, 342, 2543, 233, 42])\n",
    "\n",
    "seri.append(pd.Series([52, \"üç\"]), ignore_index= False)"
   ]
  },
  {
   "cell_type": "markdown",
   "metadata": {},
   "source": [
    "##### <font color='red'>**Egzersiz-12**</font>\n",
    "Aşağıdaki serinin 5 ten büyük değerleri için bir alt kümesini oluşturun.\n",
    "\n",
    "seri = pd.Series([0,1,2,3,4,5,6,7,8,9,10])\n"
   ]
  },
  {
   "cell_type": "code",
   "execution_count": 30,
   "metadata": {},
   "outputs": [
    {
     "name": "stdout",
     "output_type": "stream",
     "text": [
      "<class 'pandas.core.series.Series'>\n"
     ]
    }
   ],
   "source": [
    "seri = pd.Series([0,1,2,3,4,5,6,7,8,9,10])\n",
    "\n",
    "alt_küme = seri[seri > 5]\n",
    "\n",
    "print(type(alt_küme))"
   ]
  },
  {
   "cell_type": "markdown",
   "metadata": {},
   "source": [
    "##### <font color='red'>**Egzersiz-13**</font>\n",
    "Aşağıdaki serinin indeks sıralamasını değiştirin.\n",
    "\n",
    "seri = pd.Series(data = [1,2,3,4,5], index = ['A', 'B', 'C','D','E'])\n"
   ]
  },
  {
   "cell_type": "code",
   "execution_count": 32,
   "metadata": {},
   "outputs": [
    {
     "name": "stdout",
     "output_type": "stream",
     "text": [
      "B    2\n",
      "C    3\n",
      "A    1\n",
      "D    4\n",
      "E    5\n",
      "dtype: int64\n"
     ]
    }
   ],
   "source": [
    "seri = pd.Series(data = [1,2,3,4,5], index = ['A', 'B', 'C','D','E'])\n",
    "\n",
    "yeni_seri = seri.reindex(index= [\"B\", \"C\", \"A\", \"D\", \"E\"])\n",
    "\n",
    "print(yeni_seri)"
   ]
  },
  {
   "cell_type": "markdown",
   "metadata": {},
   "source": [
    "##### <font color='red'>**Egzersiz-14**</font>\n",
    "Aşağıdaki serinin ortalamasını ve standart sapmasını hesaplayın.\n",
    "\n",
    "seri = pd.Series([1,2,3,4,5,6,7,8,9,5,3])\n"
   ]
  },
  {
   "cell_type": "code",
   "execution_count": 33,
   "metadata": {},
   "outputs": [
    {
     "name": "stdout",
     "output_type": "stream",
     "text": [
      "serinin ortalaması = 4.82\n",
      "serinin standart sapması = 2.523\n"
     ]
    }
   ],
   "source": [
    "seri = pd.Series([1,2,3,4,5,6,7,8,9,5,3])\n",
    "\n",
    "print(f\"serinin ortalaması = {seri.mean().round(2)}\")\n",
    "\n",
    "print(f\"serinin standart sapması = {seri.std().round(3)}\")"
   ]
  },
  {
   "cell_type": "markdown",
   "metadata": {},
   "source": [
    "##### <font color='red'>**Egzersiz-15**</font>\n",
    "Tamsayılardan oluşan rastgele bir seri oluşturun ve o seride en çok tekrar eden sayıyı bulun.\n"
   ]
  },
  {
   "cell_type": "code",
   "execution_count": 35,
   "metadata": {},
   "outputs": [
    {
     "name": "stdout",
     "output_type": "stream",
     "text": [
      "1    4\n",
      "5    4\n",
      "6    4\n",
      "4    3\n",
      "3    2\n",
      "7    2\n",
      "2    1\n",
      "dtype: int64\n"
     ]
    }
   ],
   "source": [
    "np.random.RandomState(1)\n",
    "\n",
    "seri = pd.Series(np.random.randint(1, 8, 20))\n",
    "\n",
    "\n",
    "print(seri.value_counts())"
   ]
  },
  {
   "cell_type": "markdown",
   "metadata": {},
   "source": [
    "##### <font color='red'>**Egzersiz-16**</font>\n",
    "Aşağıdaki seriden istenen indexdeki değerleri çıkarın.\n",
    "\n",
    "seri = pd.Series(list('2390238923902390239023'))\n",
    "\n",
    "çıkarılacaklar = [0, 2, 6, 11, 21] - Yani 2, 9, 8, 0, 3 değerlerini istiyor\n"
   ]
  },
  {
   "cell_type": "code",
   "execution_count": 36,
   "metadata": {},
   "outputs": [
    {
     "name": "stdout",
     "output_type": "stream",
     "text": [
      "0     2\n",
      "2     9\n",
      "6     8\n",
      "11    0\n",
      "21    3\n",
      "dtype: object\n"
     ]
    }
   ],
   "source": [
    "seri = pd.Series(list('2390238923902390239023'))\n",
    "\n",
    "çıkarılacaklar = [0, 2, 6, 11, 21]\n",
    "\n",
    "sonuc = seri.take(çıkarılacaklar)\n",
    "\n",
    "print(sonuc)\n",
    "\n"
   ]
  },
  {
   "cell_type": "markdown",
   "metadata": {},
   "source": [
    "##### <font color='red'>**Egzersiz-17**</font>\n",
    "Aşağıdaki serilerden ikincisindeki değerleri alın. Örneğin aldığınız ilk değerin 3 ise ilk listede 3 değerini bulun ve indeksini alın. Bütün indeksleri bir liste haline getirin.\n",
    "\n",
    "seri1 = pd.Series([1, 2, 3, 4, 5, 6, 7, 8, 9, 10])\n",
    "\n",
    "seri2 = pd.Series([1, 3, 5, 7, 9])\n",
    "\n"
   ]
  },
  {
   "cell_type": "code",
   "execution_count": 40,
   "metadata": {},
   "outputs": [
    {
     "name": "stdout",
     "output_type": "stream",
     "text": [
      "[2, 4, 6, 8, 10]\n"
     ]
    }
   ],
   "source": [
    "seri1 = pd.Series([1, 2, 3, 4, 5, 6, 7, 8, 9, 10])\n",
    "\n",
    "seri2 = pd.Series([1, 3, 5, 7, 9])\n",
    "\n",
    "index = seri2.values\n",
    "\n",
    "sonuc= []\n",
    "\n",
    "for i in index:\n",
    "    sonuc.append(seri1.iloc[i])\n",
    "\n",
    "print(sonuc)\n",
    "\n",
    "\n"
   ]
  },
  {
   "cell_type": "markdown",
   "metadata": {},
   "source": [
    "##### <font color='red'>**Egzersiz-18**</font>\n",
    "Aşağıdaki iki seriyi yan yana birleştirin.\n",
    "\n",
    "seri1 = pd.Series(range(10))\n",
    "\n",
    "seri2 = pd.Series(list('pqrstuvwxy'))\n",
    "\n"
   ]
  },
  {
   "cell_type": "code",
   "execution_count": 41,
   "metadata": {},
   "outputs": [
    {
     "name": "stdout",
     "output_type": "stream",
     "text": [
      "0    0\n",
      "1    1\n",
      "2    2\n",
      "3    3\n",
      "4    4\n",
      "5    5\n",
      "6    6\n",
      "7    7\n",
      "8    8\n",
      "9    9\n",
      "dtype: int64\n",
      "0    p\n",
      "1    q\n",
      "2    r\n",
      "3    s\n",
      "4    t\n",
      "5    u\n",
      "6    v\n",
      "7    w\n",
      "8    x\n",
      "9    y\n",
      "dtype: object\n",
      "   0  1\n",
      "0  0  p\n",
      "1  1  q\n",
      "2  2  r\n",
      "3  3  s\n",
      "4  4  t\n",
      "5  5  u\n",
      "6  6  v\n",
      "7  7  w\n",
      "8  8  x\n",
      "9  9  y\n"
     ]
    }
   ],
   "source": [
    "seri1 = pd.Series(range(10))\n",
    "\n",
    "seri2 = pd.Series(list('pqrstuvwxy'))\n",
    "\n",
    "df = pd.concat([seri1, seri2], axis = 1)\n",
    "\n",
    "print(seri1)\n",
    "print(seri2)\n",
    "print(df)"
   ]
  },
  {
   "cell_type": "markdown",
   "metadata": {},
   "source": [
    "##### <font color='red'>**Egzersiz-19**</font>\n",
    "Aşağıdaki iki seri arasındaki [Öklid uzaklığını](https://tr.wikipedia.org/wiki/%C3%96klid_uzakl%C4%B1%C4%9F%C4%B1) hesaplayın hesaplayın.\n",
    "\n",
    "x = pd.Series([1, 2, 3, 4, 5, 6, 7, 8, 9, 10])\n",
    "\n",
    "y = pd.Series([11, 8, 7, 5, 6, 5, 3, 4, 7, 1])\n"
   ]
  },
  {
   "cell_type": "code",
   "execution_count": 42,
   "metadata": {},
   "outputs": [
    {
     "name": "stdout",
     "output_type": "stream",
     "text": [
      " iki seri arasındaki öklid uzaklığı: 16.492422502470642\n"
     ]
    }
   ],
   "source": [
    "\n",
    "x = pd.Series([1, 2, 3, 4, 5, 6, 7, 8, 9, 10])\n",
    "\n",
    "y = pd.Series([11, 8, 7, 5, 6, 5, 3, 4, 7, 1])\n",
    "\n",
    "öklid_uzaklıgı = np.linalg.norm(x-y)\n",
    "\n",
    "print(f\" iki seri arasındaki öklid uzaklığı: {öklid_uzaklıgı}\")\n"
   ]
  },
  {
   "cell_type": "code",
   "execution_count": null,
   "metadata": {},
   "outputs": [],
   "source": []
  }
 ],
 "metadata": {
  "interpreter": {
   "hash": "b89b5cfaba6639976dc87ff2fec6d58faec662063367e2c229c520fe71072417"
  },
  "kernelspec": {
   "display_name": "Python 3.10.0 64-bit",
   "language": "python",
   "name": "python3"
  },
  "language_info": {
   "codemirror_mode": {
    "name": "ipython",
    "version": 3
   },
   "file_extension": ".py",
   "mimetype": "text/x-python",
   "name": "python",
   "nbconvert_exporter": "python",
   "pygments_lexer": "ipython3",
   "version": "3.10.0"
  },
  "orig_nbformat": 4
 },
 "nbformat": 4,
 "nbformat_minor": 2
}
