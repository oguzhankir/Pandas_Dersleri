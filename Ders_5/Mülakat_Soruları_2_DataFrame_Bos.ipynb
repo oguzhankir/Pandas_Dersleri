{
 "cells": [
  {
   "cell_type": "markdown",
   "metadata": {},
   "source": [
    "#  <p style=\"font-family: Arial; font-size:1.4em;color:orange;\"> Pandas DataFrame Egzersizleri </p>"
   ]
  },
  {
   "cell_type": "code",
   "execution_count": 1,
   "metadata": {},
   "outputs": [],
   "source": [
    "import numpy as np\n",
    "import pandas as pd"
   ]
  },
  {
   "cell_type": "markdown",
   "metadata": {},
   "source": [
    "##### <p style=\"font-family: Arial; font-size:1.4em;color:pink;\"> **Egzersiz-1** </p>\n",
    "**Aşağıdaki sözlük yapısındaki verilerden bir DataFrame oluşturun ve verilen indeksleri kullanın.**\n",
    "\n",
    "- veriler = {'name': ['Anastasia', 'Dima', 'Katherine', 'James', 'Emily', 'Michael', 'Matthew', 'Laura', 'Kevin', 'Jonas'],\n",
    "'score': [12.5, 9, 16.5, np.nan, 9, 20, 14.5, np.nan, 8, 19],\n",
    "'attempts': [1, 3, 2, 3, 2, 3, 1, 1, 2, 1],\n",
    "'qualify': ['yes', 'no', 'yes', 'no', 'no', 'yes', 'yes', 'no', 'no', 'yes']}\n",
    "\n",
    "- indeksler = ['a', 'b', 'c', 'd', 'e', 'f', 'g', 'h', 'i', 'j']\n"
   ]
  },
  {
   "cell_type": "code",
   "execution_count": null,
   "metadata": {},
   "outputs": [],
   "source": []
  },
  {
   "cell_type": "markdown",
   "metadata": {},
   "source": [
    "##### <p style=\"font-family: Arial; font-size:1.4em;color:pink;\"> **Egzersiz-2** </p>\n",
    "**Yukarıda oluşturduğunuz DataFrame' in temel bilgilerini yazdırın.**"
   ]
  },
  {
   "cell_type": "code",
   "execution_count": null,
   "metadata": {},
   "outputs": [],
   "source": []
  },
  {
   "cell_type": "markdown",
   "metadata": {},
   "source": [
    "##### <p style=\"font-family: Arial; font-size:1.4em;color:pink;\"> **Egzersiz-3** </p>\n",
    "**Yukarıda oluşturduğunuz DataFrame' in ilk 3 satırını iloc kullanarak getirin.**"
   ]
  },
  {
   "cell_type": "code",
   "execution_count": null,
   "metadata": {},
   "outputs": [],
   "source": []
  },
  {
   "cell_type": "markdown",
   "metadata": {},
   "source": [
    "##### <p style=\"font-family: Arial; font-size:1.4em;color:pink;\"> **Egzersiz-4** </p>\n",
    "**Yukarıda oluşturduğunuz DataFrame'in \"name\" ve \"score\" kolonlarındaki bütün değerleri yazdırın.**"
   ]
  },
  {
   "cell_type": "code",
   "execution_count": null,
   "metadata": {},
   "outputs": [],
   "source": []
  },
  {
   "cell_type": "markdown",
   "metadata": {},
   "source": [
    "##### <p style=\"font-family: Arial; font-size:1.4em;color:pink;\"> **Egzersiz-5** </p>\n",
    "**Yukarıda oluşturduğunuz DataFrame'in \"name\" ve \"score\" kolonlarındaki 1,3,5,6 satırlarındaki değerleri yazdırın.**"
   ]
  },
  {
   "cell_type": "code",
   "execution_count": null,
   "metadata": {},
   "outputs": [],
   "source": []
  },
  {
   "cell_type": "code",
   "execution_count": null,
   "metadata": {},
   "outputs": [],
   "source": []
  },
  {
   "cell_type": "markdown",
   "metadata": {},
   "source": [
    "##### <p style=\"font-family: Arial; font-size:1.4em;color:pink;\"> **Egzersiz-6** </p>\n",
    "**Yukarıda oluşturduğunuz DataFrame'de sınava 2 den fazla giren kişileri yazdırın.**\n",
    "\n"
   ]
  },
  {
   "cell_type": "code",
   "execution_count": null,
   "metadata": {},
   "outputs": [],
   "source": []
  },
  {
   "cell_type": "markdown",
   "metadata": {},
   "source": [
    "##### <p style=\"font-family: Arial; font-size:1.4em;color:pink;\"> **Egzersiz-7** </p>\n",
    "**Yukarıda oluşturduğunuz DataFrame'in satır ve sütun sayılarını yazdırınız.**\n",
    "\n"
   ]
  },
  {
   "cell_type": "code",
   "execution_count": null,
   "metadata": {},
   "outputs": [],
   "source": []
  },
  {
   "cell_type": "markdown",
   "metadata": {},
   "source": [
    "##### <p style=\"font-family: Arial; font-size:1.4em;color:pink;\"> **Egzersiz-8** </p>\n",
    "**Yukarıda oluşturduğunuz DataFrame'de sınav skoru 15 ile 20 arasında olanları yazdırın.**\n"
   ]
  },
  {
   "cell_type": "code",
   "execution_count": null,
   "metadata": {},
   "outputs": [],
   "source": []
  },
  {
   "cell_type": "markdown",
   "metadata": {},
   "source": [
    "##### <p style=\"font-family: Arial; font-size:1.4em;color:pink;\"> **Egzersiz-9** </p>\n",
    "**Yukarıda oluşturduğunuz DataFrame'de sınava 1 kere girmiş ve skoru 15 ten fazla olan kişiye ait verileri yazdırın.**\n"
   ]
  },
  {
   "cell_type": "code",
   "execution_count": null,
   "metadata": {},
   "outputs": [],
   "source": []
  },
  {
   "cell_type": "markdown",
   "metadata": {},
   "source": [
    "##### <p style=\"font-family: Arial; font-size:1.4em;color:pink;\"> **Egzersiz-10** </p>\n",
    "**Yukarıda oluşturduğunuz DataFrame'de indeksi d olan satırdaki skor değerini 11.5 ile değiştirin.**\n"
   ]
  },
  {
   "cell_type": "code",
   "execution_count": null,
   "metadata": {},
   "outputs": [],
   "source": []
  },
  {
   "cell_type": "code",
   "execution_count": null,
   "metadata": {},
   "outputs": [],
   "source": []
  },
  {
   "cell_type": "markdown",
   "metadata": {},
   "source": [
    "##### <p style=\"font-family: Arial; font-size:1.4em;color:pink;\"> **Egzersiz-11** </p>\n",
    "**Yukarıda oluşturduğunuz DataFrame'de öğrecilerin ortalama skorunu hesaplayın.**\n"
   ]
  },
  {
   "cell_type": "code",
   "execution_count": null,
   "metadata": {},
   "outputs": [],
   "source": []
  },
  {
   "cell_type": "markdown",
   "metadata": {},
   "source": [
    "##### <p style=\"font-family: Arial; font-size:1.4em;color:pink;\"> **Egzersiz-12** </p>\n",
    "**Yukarıda oluşturduğunuz DataFrame'de qualify kolonundaki yes ve no değerlerini true false ile değiştirin.**\n"
   ]
  },
  {
   "cell_type": "code",
   "execution_count": null,
   "metadata": {},
   "outputs": [],
   "source": []
  },
  {
   "cell_type": "markdown",
   "metadata": {},
   "source": [
    "- apply() Bir serinin değerlerine veya DataFrame in bir kolon veya satırına fonksiyon uygulamak için kullanılır\n",
    "- apllymap() DataFrame lerin her elemanına fonksiyon uygulamak için kullanılır.\n",
    "- map() Bir serinin bütün değerlerini veya DataFrame in bir kolon ve satırındaki değerleri başka bir değerle değiştirmek için kullanılır."
   ]
  },
  {
   "cell_type": "markdown",
   "metadata": {},
   "source": [
    "##### <p style=\"font-family: Arial; font-size:1.4em;color:pink;\"> **Egzersiz-13** </p>\n",
    "**Yukarıda oluşturduğunuz DataFrame'de James adını Suresh ile değiştirin.**\n"
   ]
  },
  {
   "cell_type": "code",
   "execution_count": null,
   "metadata": {},
   "outputs": [],
   "source": []
  },
  {
   "cell_type": "markdown",
   "metadata": {},
   "source": [
    "##### <p style=\"font-family: Arial; font-size:1.4em;color:pink;\"> **Egzersiz-14** </p>\n",
    "**Yukarıda oluşturduğunuz DataFrame'e aşağıdaki kolonu ekleyin.**\n",
    "- color = ['Red','Blue','Orange','Red','White','White','Blue','Green','Green','Red']"
   ]
  },
  {
   "cell_type": "code",
   "execution_count": null,
   "metadata": {},
   "outputs": [],
   "source": []
  },
  {
   "cell_type": "markdown",
   "metadata": {},
   "source": [
    "##### <p style=\"font-family: Arial; font-size:1.4em;color:pink;\"> **Egzersiz-15** </p>\n",
    "**Aşağıdaki DataFrame'in kolonlarının ismini değiştirin.**\n",
    "\n",
    "- df = pd.DataFrame({'col1': [1, 2, 3], 'col2': [4, 5, 6], 'col3': [7, 8, 9]})\n",
    "\n",
    "- Yeni kolon isimleri: ['Column1', 'Column2', 'Column3']"
   ]
  },
  {
   "cell_type": "code",
   "execution_count": null,
   "metadata": {},
   "outputs": [],
   "source": []
  },
  {
   "cell_type": "markdown",
   "metadata": {},
   "source": [
    "##### <p style=\"font-family: Arial; font-size:1.4em;color:pink;\"> **Egzersiz-16** </p>\n",
    "**Aşağıdaki dataframe i değerleri tab ile ayrılacak şekilde CSV dosyasına çevirin.**\n",
    "\n",
    "- df = pd.DataFrame({'col1': [1, 4, 3, 4, 5], 'col2': [4, 5, 6, 7, 8], 'col3': [7, 8, 9, 0, 1]})"
   ]
  },
  {
   "cell_type": "code",
   "execution_count": null,
   "metadata": {},
   "outputs": [],
   "source": []
  },
  {
   "cell_type": "markdown",
   "metadata": {},
   "source": [
    "##### <p style=\"font-family: Arial; font-size:1.4em;color:pink;\"> **Egzersiz-17** </p>\n",
    "**California, Georgia, Los Angeles'da kaç kişi yaşadığını bulun.**\n",
    "\n",
    "- df1 = pd.DataFrame({'name': ['Anastasia', 'Dima', 'Katherine', 'James', 'Emily', 'Michael', 'Matthew', 'Laura', 'Kevin', 'Jonas'],\n",
    "'city': ['California', 'Los Angeles', 'California', 'California', 'California', 'Los Angeles', 'Los Angeles', 'Georgia', 'Georgia', 'Los Angeles']})\n"
   ]
  },
  {
   "cell_type": "code",
   "execution_count": null,
   "metadata": {},
   "outputs": [],
   "source": []
  },
  {
   "cell_type": "markdown",
   "metadata": {},
   "source": [
    "##### <p style=\"font-family: Arial; font-size:1.4em;color:pink;\"> **Egzersiz-19** </p>\n",
    "**Daha fazla satır ve sütun görebilmek için pandas ayarlarını değiştirin.**\n",
    "\n",
    "- df = pd.DataFrame({'col1': [1, 4, 3, 4, 5], 'col2': [4, 5, 6, 7, 8], 'col3': [7, 8, 9, 0, 1]})"
   ]
  },
  {
   "cell_type": "code",
   "execution_count": null,
   "metadata": {},
   "outputs": [],
   "source": []
  },
  {
   "cell_type": "markdown",
   "metadata": {},
   "source": [
    "##### <p style=\"font-family: Arial; font-size:1.4em;color:pink;\"> **Egzersiz-20** </p>\n",
    "**Aşağıdaki verilerde eksik değerleri 0 ile doldurun.**\n",
    "\n",
    "- df = pd.DataFrame({'name': ['Anastasia', 'Dima', 'Katherine', 'James', 'Emily', 'Michael', 'Matthew', 'Laura', 'Kevin', 'Jonas'],\n",
    "        'score': [12.5, 9, 16.5, np.nan, 9, 20, 14.5, np.nan, 8, 19],\n",
    "        'attempts': [1, 3, 2, 3, 2, 3, 1, 1, 2, 1],\n",
    "        'qualify': ['yes', 'no', 'yes', 'no', 'no', 'yes', 'yes', 'no', 'no', 'yes']})"
   ]
  },
  {
   "cell_type": "code",
   "execution_count": null,
   "metadata": {},
   "outputs": [],
   "source": []
  },
  {
   "cell_type": "markdown",
   "metadata": {},
   "source": [
    "##### <p style=\"font-family: Arial; font-size:1.4em;color:pink;\"> **Egzersiz-21** </p>\n",
    "**Aşağıdaki DataFrame in indexlerini bir kolon olarak ekleyin.**\n",
    "- df = pd.DataFrame({'name': ['Anastasia', 'Dima', 'Katherine', 'James', 'Emily', 'Michael', 'Matthew', 'Laura', 'Kevin', 'Jonas'],\n",
    "        'score': [12.5, 9, 16.5, np.nan, 9, 20, 14.5, np.nan, 8, 19],\n",
    "        'attempts': [1, 3, 2, 3, 2, 3, 1, 1, 2, 1],\n",
    "        'qualify': ['yes', 'no', 'yes', 'no', 'no', 'yes', 'yes', 'no', 'no', 'yes']})"
   ]
  },
  {
   "cell_type": "code",
   "execution_count": null,
   "metadata": {},
   "outputs": [],
   "source": []
  },
  {
   "cell_type": "markdown",
   "metadata": {},
   "source": [
    "##### <p style=\"font-family: Arial; font-size:1.4em;color:pink;\"> **Egzersiz-22** </p>\n",
    "\n",
    "**Aşağıdaki DataFrame de eksik verilerin sayısını tespit edin.**\n",
    "\n",
    "- df = pd.DataFrame({'name': ['Anastasia', 'Dima', 'Katherine', 'James', 'Emily', 'Michael', 'Matthew', 'Laura', 'Kevin', 'Jonas'],\n",
    "        'score': [12.5, 9, 16.5, np.nan, 9, 20, 14.5, np.nan, 8, 19],\n",
    "        'attempts': [1, 3, 2, 3, 2, 3, 1, 1, 2, 1],\n",
    "        'qualify': ['yes', 'no', 'yes', 'no', 'no', 'yes', 'yes', 'no', 'no', 'yes']})"
   ]
  },
  {
   "cell_type": "code",
   "execution_count": null,
   "metadata": {},
   "outputs": [],
   "source": []
  },
  {
   "cell_type": "markdown",
   "metadata": {},
   "source": [
    "##### <p style=\"font-family: Arial; font-size:1.4em;color:pink;\"> **Egzersiz-23** </p>\n",
    "\n",
    "**Aşağıdaki DataFrame de 2. ve 4. indeksli satırları atın.**\n",
    "\n",
    "- df = pd.DataFrame({'col1': [1, 4, 3, 4, 5], 'col2': [4, 5, 6, 7, 8], 'col3': [7, 8, 9, 0, 1]})"
   ]
  },
  {
   "cell_type": "code",
   "execution_count": null,
   "metadata": {},
   "outputs": [],
   "source": []
  },
  {
   "cell_type": "markdown",
   "metadata": {},
   "source": [
    "##### <p style=\"font-family: Arial; font-size:1.4em;color:pink;\"> **Egzersiz-24** </p>\n",
    "\n",
    "**Aşağıdaki DataFrame i önce sınava girme sayılarına göre daha sonra isimlerine göre azalan şekilde sıralayın.**\n",
    "\n",
    "- df = pd.DataFrame({'name': ['Anastasia', 'Dima', 'Katherine', 'James', 'Emily', 'Michael', 'Matthew', 'Laura', 'Kevin', 'Jonas'],\n",
    "        'score': [12.5, 9, 16.5, np.nan, 9, 20, 14.5, np.nan, 8, 19],\n",
    "        'attempts': [1, 3, 2, 3, 2, 3, 1, 1, 2, 1],\n",
    "        'qualify': ['yes', 'no', 'yes', 'no', 'no', 'yes', 'yes', 'no', 'no', 'yes']})"
   ]
  },
  {
   "cell_type": "code",
   "execution_count": null,
   "metadata": {},
   "outputs": [],
   "source": []
  },
  {
   "cell_type": "markdown",
   "metadata": {},
   "source": [
    "##### <p style=\"font-family: Arial; font-size:1.4em;color:pink;\"> **Egzersiz-25** </p>\n",
    "**Aşağıdaki listeyi dataframe e çevirin.**\n",
    "- liste = [['col1', 'col2'], [2, 4], [1, 3]]"
   ]
  },
  {
   "cell_type": "code",
   "execution_count": null,
   "metadata": {},
   "outputs": [],
   "source": []
  },
  {
   "cell_type": "markdown",
   "metadata": {},
   "source": [
    "#### [Linkedin](https://www.linkedin.com/in/oguzhankir/), [Youtube](https://www.youtube.com/playlist?list=PLhxaF_H_a_2kZujvUyTRi-J3-BbXvY76G)"
   ]
  }
 ],
 "metadata": {
  "interpreter": {
   "hash": "b89b5cfaba6639976dc87ff2fec6d58faec662063367e2c229c520fe71072417"
  },
  "kernelspec": {
   "display_name": "Python 3.10.0 64-bit",
   "language": "python",
   "name": "python3"
  },
  "language_info": {
   "codemirror_mode": {
    "name": "ipython",
    "version": 3
   },
   "file_extension": ".py",
   "mimetype": "text/x-python",
   "name": "python",
   "nbconvert_exporter": "python",
   "pygments_lexer": "ipython3",
   "version": "3.10.0"
  },
  "orig_nbformat": 4
 },
 "nbformat": 4,
 "nbformat_minor": 2
}
