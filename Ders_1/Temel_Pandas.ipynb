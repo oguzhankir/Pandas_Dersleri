{
  "cells": [
    {
      "cell_type": "markdown",
      "metadata": {
        "id": "qhqfoBcLOcT6"
      },
      "source": [
        "# Pandas İle Veri Manipülasyonu"
      ]
    },
    {
      "cell_type": "markdown",
      "metadata": {
        "id": "lG_peKlbOcT6"
      },
      "source": [
        "Pandas, NumPy üzerine kurulu bir kütüphanedir ve bir \"DataFrame (tablo şeklindeki veriler diyebiliriz)\" üzerinde verimli ve kolay bir şekilde çalışmayı sağlar.\n",
        "``DataFrame``ler satır ve sütunlar şeklinde ve genellikle heterojen türlerde ve/veya eksik verilere sahip çok boyutlu dizilerdir. Pandas, işlenmiş veriler için uygun bir depolama arabirimi sunmanın yanı sıra, hem veritabanı hem de elektronik tablo programlarının (MS Excel vb.) kullanıcılarının aşina olduğu bir dizi işlevsel veri fonksiyonları ile çalışabilmeyi sağlar.\n",
        "\n",
        "Ayrıca, NumPy'nin ``ndarray`` veri yapısı, sayısal hesaplama işlemlerinde kullanılan temiz, işlenmiş veri türü için temel özellikleri sağlar. Bu amaca çok iyi hizmet etse de, farklı işlemlere ihtiyacımız olduğunda (örneğin, verilere etiketler ekleme, eksik verilerle çalışma, gruplamalar, görselleştirmeler, vb.), bünyesinde bu uygulamalar için birçok fonksiyon bulundurur. \n",
        "\n",
        "Pandas ve özellikle pandasın \"Series\" ve \"DataFrame\" nesneleri, NumPy dizi yapısı üzerine kuruludur ve bir veri bilimcinin zamanının çoğunu alan bu tür \"veri ile uğraşma\" görevlerinde verimli bir şekilde çalışmayı sağlar."
      ]
    },
    {
      "cell_type": "markdown",
      "metadata": {
        "id": "ubOe_AYxOcT7"
      },
      "source": [
        "## Pandas Kurulumu ve Kullanımı\n",
        "\n",
        "Pandasın sisteminize yüklenmesi için NumPy'nin kurulmasını gereklidir.\n",
        "\n",
        "Bu kurulumla ilgili ayrıntılar [Pandas dökümantasyonunda](http://pandas.pydata.org/) bulunmaktadır.\n",
        "Anaconda kullanıyorsanız, Pandas yüklü olarak gelmektedir.\n",
        "\n",
        "Pandası kurduğunuzda, import edebilir ve versiyonunuzu kontrol edebilirsiniz."
      ]
    },
    {
      "cell_type": "markdown",
      "metadata": {
        "id": "k7SvDGo1OcUB"
      },
      "source": [
        "İmport ederken daha sonra kullandığımızda kolaylık olması için ``pd`` şeklinde import ederiz. Bunun için `` as pd`` yazmamız yeterlidir:\n"
      ]
    },
    {
      "cell_type": "code",
      "execution_count": 65,
      "metadata": {},
      "outputs": [
        {
          "data": {
            "text/plain": [
              "'1.3.5'"
            ]
          },
          "execution_count": 65,
          "metadata": {},
          "output_type": "execute_result"
        }
      ],
      "source": [
        "import pandas\n",
        "pandas.__version__"
      ]
    },
    {
      "cell_type": "code",
      "execution_count": 66,
      "metadata": {},
      "outputs": [],
      "source": [
        "import pandas as pd"
      ]
    },
    {
      "cell_type": "markdown",
      "metadata": {
        "id": "4wwovtwqOcV4"
      },
      "source": [
        "## Pandas ve ``Series`` nesnesi (object)\n",
        "Pandas \"Serileri\", tek boyutlu ve indexlenmiş veri dizisidir.\n",
        "Aşağıdaki gibi bir listeden veya diziden oluşturulabilir:"
      ]
    },
    {
      "cell_type": "code",
      "execution_count": 67,
      "metadata": {},
      "outputs": [
        {
          "data": {
            "text/plain": [
              "0    0.25\n",
              "1    0.50\n",
              "2    0.75\n",
              "3    1.00\n",
              "dtype: float64"
            ]
          },
          "execution_count": 67,
          "metadata": {},
          "output_type": "execute_result"
        }
      ],
      "source": [
        "data = pd.Series([0.25, 0.5, 0.75, 1.0])\n",
        "data"
      ]
    },
    {
      "cell_type": "markdown",
      "metadata": {
        "id": "r7hV3B3DOcV8"
      },
      "source": [
        "Sonuçta gördüğümüz gibi, \"Seriler\" hem değerleri hem de bu değerlere(values) ait indeksleri içermektedir. Bu değerlere indeksler yardımıyla erişmek mümkündür. Bu değerler bir NumPy dizisidir (array)."
      ]
    },
    {
      "cell_type": "code",
      "execution_count": 68,
      "metadata": {},
      "outputs": [
        {
          "data": {
            "text/plain": [
              "array([0.25, 0.5 , 0.75, 1.  ])"
            ]
          },
          "execution_count": 68,
          "metadata": {},
          "output_type": "execute_result"
        }
      ],
      "source": [
        "data.values"
      ]
    },
    {
      "cell_type": "markdown",
      "metadata": {
        "id": "5FBv9cDIOcV_"
      },
      "source": [
        "\"index\", birazdan daha ayrıntılı olarak anlatılacağı gibi \"pd.Index\" türünde dizi benzeri bir nesnedir."
      ]
    },
    {
      "cell_type": "code",
      "execution_count": 69,
      "metadata": {},
      "outputs": [
        {
          "data": {
            "text/plain": [
              "RangeIndex(start=0, stop=4, step=1)"
            ]
          },
          "execution_count": 69,
          "metadata": {},
          "output_type": "execute_result"
        }
      ],
      "source": [
        "data.index"
      ]
    },
    {
      "cell_type": "markdown",
      "metadata": {
        "id": "vNwALUejOcWC"
      },
      "source": [
        "NumPy dizisinde olduğu gibi, verilere, bilinen Python köşeli parantez gösterimi ([]) aracılığıyla erişilebilir:"
      ]
    },
    {
      "cell_type": "code",
      "execution_count": 70,
      "metadata": {},
      "outputs": [
        {
          "data": {
            "text/plain": [
              "0    0.25\n",
              "1    0.50\n",
              "2    0.75\n",
              "3    1.00\n",
              "dtype: float64"
            ]
          },
          "execution_count": 70,
          "metadata": {},
          "output_type": "execute_result"
        }
      ],
      "source": [
        "data"
      ]
    },
    {
      "cell_type": "code",
      "execution_count": 72,
      "metadata": {
        "colab": {
          "base_uri": "https://localhost:8080/",
          "height": 34
        },
        "id": "OspGO9eGOcWC",
        "outputId": "a183959e-061d-4bac-9328-b190144112c2"
      },
      "outputs": [
        {
          "data": {
            "text/plain": [
              "1.0"
            ]
          },
          "execution_count": 72,
          "metadata": {},
          "output_type": "execute_result"
        }
      ],
      "source": [
        "data[3]"
      ]
    },
    {
      "cell_type": "code",
      "execution_count": 74,
      "metadata": {
        "colab": {
          "base_uri": "https://localhost:8080/",
          "height": 68
        },
        "id": "26wIN-DWOcWF",
        "outputId": "c7d7ba58-d9d5-4d08-8642-e782b7a12376"
      },
      "outputs": [
        {
          "data": {
            "text/plain": [
              "0    0.25\n",
              "1    0.50\n",
              "2    0.75\n",
              "dtype: float64"
            ]
          },
          "execution_count": 74,
          "metadata": {},
          "output_type": "execute_result"
        }
      ],
      "source": [
        "data[0 : 3]"
      ]
    },
    {
      "cell_type": "markdown",
      "metadata": {
        "id": "ic6Z57AKOcWI"
      },
      "source": [
        "Yine de, Pandas ``Serileri (Series)`` tek boyutlu NumPy dizisinden çok daha genel ve esnektir(flexible)."
      ]
    },
    {
      "cell_type": "markdown",
      "metadata": {
        "id": "vVxIgC9iRAcj"
      },
      "source": [
        "## İndeksleme operatörleri: loc ve iloc\n",
        "Bu dilimleme(slicing) ve indeksleme operatörleri ilk başta karışık gelebilir. Örneğin, tamsayı indekslerden oluşan bir \"Seri\"niz varsa , \"data[1]\" gibi indexleme işlemi explicit indis kullanır, \"data[1:3]\" gibi bir dilimleme işlemi ise implicit Python tarzı indisleri kullanır. Yani bizim verdiğimiz indeksleri kullanmaz, 0 ile başlar. Okuması karışık gelse de gelin devam edelim."
      ]
    },
    {
      "cell_type": "code",
      "execution_count": 76,
      "metadata": {
        "colab": {
          "base_uri": "https://localhost:8080/",
          "height": 85
        },
        "id": "xXSVGt6LRAck",
        "outputId": "0c9c047e-8ad8-473a-b3e4-e403fbab24d5"
      },
      "outputs": [
        {
          "data": {
            "text/plain": [
              "1    a\n",
              "3    b\n",
              "5    c\n",
              "dtype: object"
            ]
          },
          "execution_count": 76,
          "metadata": {},
          "output_type": "execute_result"
        }
      ],
      "source": [
        "data = pd.Series([\"a\", \"b\", \"c\"], index = [1, 3, 5])\n",
        "data"
      ]
    },
    {
      "cell_type": "markdown",
      "metadata": {},
      "source": [
        "Normal indeksleme yaparken explicit index kullanır. Yani bizim tanımladığımız indekslere göre çağırmamız gerekir."
      ]
    },
    {
      "cell_type": "code",
      "execution_count": 79,
      "metadata": {
        "colab": {
          "base_uri": "https://localhost:8080/",
          "height": 34
        },
        "id": "_eSxOIIWRAco",
        "outputId": "15225aae-0e00-42f1-a875-f9773354b477"
      },
      "outputs": [
        {
          "data": {
            "text/plain": [
              "'c'"
            ]
          },
          "execution_count": 79,
          "metadata": {},
          "output_type": "execute_result"
        }
      ],
      "source": [
        "data[5]"
      ]
    },
    {
      "cell_type": "markdown",
      "metadata": {},
      "source": [
        "Ancak dilimleme işlemi ise implicit index yani python tarzı index kullanır. Sayıların sıralamasına göre yapılır"
      ]
    },
    {
      "cell_type": "code",
      "execution_count": 80,
      "metadata": {
        "colab": {
          "base_uri": "https://localhost:8080/",
          "height": 68
        },
        "id": "Hjsqki7YRAcq",
        "outputId": "0a6595e1-456c-469f-a2f4-67aa967482eb"
      },
      "outputs": [
        {
          "data": {
            "text/plain": [
              "1    a\n",
              "3    b\n",
              "dtype: object"
            ]
          },
          "execution_count": 80,
          "metadata": {},
          "output_type": "execute_result"
        }
      ],
      "source": [
        "data[0 : 2]"
      ]
    },
    {
      "cell_type": "markdown",
      "metadata": {
        "id": "1bALYNJ-RAcs"
      },
      "source": [
        "Tamsayı indeksleri durumunda bu oluşabilecek karışıklığı önlemek amacıyla, Pandas belirli indeksleme şemalarını \"explicitly\" gösteren bazı özel *indekseleyici (indexer)* özellikleri sağlar.\n",
        "\n",
        "İlk olarak, \"loc\" özelliği ile, her zaman explicit indeksleme ve dilimleme yapılır:"
      ]
    },
    {
      "cell_type": "code",
      "execution_count": 81,
      "metadata": {},
      "outputs": [
        {
          "data": {
            "text/plain": [
              "1    a\n",
              "3    b\n",
              "5    c\n",
              "dtype: object"
            ]
          },
          "execution_count": 81,
          "metadata": {},
          "output_type": "execute_result"
        }
      ],
      "source": [
        "data"
      ]
    },
    {
      "cell_type": "code",
      "execution_count": 83,
      "metadata": {
        "colab": {
          "base_uri": "https://localhost:8080/",
          "height": 34
        },
        "id": "J-kIAEx7RAct",
        "outputId": "d6fb153b-6b3c-42b2-b36f-f2b152fb0dbd"
      },
      "outputs": [
        {
          "data": {
            "text/plain": [
              "'b'"
            ]
          },
          "execution_count": 83,
          "metadata": {},
          "output_type": "execute_result"
        }
      ],
      "source": [
        "data.loc[3]"
      ]
    },
    {
      "cell_type": "code",
      "execution_count": 85,
      "metadata": {
        "colab": {
          "base_uri": "https://localhost:8080/",
          "height": 68
        },
        "id": "WWUpSYYXRAcv",
        "outputId": "1ef82c48-22ff-4bd3-e786-1c55d20b06a8"
      },
      "outputs": [
        {
          "data": {
            "text/plain": [
              "1    a\n",
              "3    b\n",
              "5    c\n",
              "dtype: object"
            ]
          },
          "execution_count": 85,
          "metadata": {},
          "output_type": "execute_result"
        }
      ],
      "source": [
        "data.loc[1:5]"
      ]
    },
    {
      "cell_type": "markdown",
      "metadata": {
        "id": "w-yaFaYeRAcy"
      },
      "source": [
        "``iloc`` özelliği ile, her zaman Python tarzı indeksleme ve dilimleme yapılır:"
      ]
    },
    {
      "cell_type": "code",
      "execution_count": 87,
      "metadata": {},
      "outputs": [
        {
          "data": {
            "text/plain": [
              "'c'"
            ]
          },
          "execution_count": 87,
          "metadata": {},
          "output_type": "execute_result"
        }
      ],
      "source": [
        "data.iloc[2]"
      ]
    },
    {
      "cell_type": "code",
      "execution_count": 88,
      "metadata": {
        "colab": {
          "base_uri": "https://localhost:8080/",
          "height": 34
        },
        "id": "IAxMOEnTRAcz",
        "outputId": "1b57ccca-3093-4177-a3fe-6c3c22962864"
      },
      "outputs": [
        {
          "data": {
            "text/plain": [
              "1    a\n",
              "3    b\n",
              "5    c\n",
              "dtype: object"
            ]
          },
          "execution_count": 88,
          "metadata": {},
          "output_type": "execute_result"
        }
      ],
      "source": [
        "data"
      ]
    },
    {
      "cell_type": "code",
      "execution_count": 89,
      "metadata": {
        "colab": {
          "base_uri": "https://localhost:8080/",
          "height": 68
        },
        "id": "jXJ2NcEFRAc3",
        "outputId": "95ea7f36-9d12-4d14-e376-abb738273c84"
      },
      "outputs": [
        {
          "data": {
            "text/plain": [
              "3    b\n",
              "5    c\n",
              "dtype: object"
            ]
          },
          "execution_count": 89,
          "metadata": {},
          "output_type": "execute_result"
        }
      ],
      "source": [
        "data.iloc[1 : 3]"
      ]
    },
    {
      "cell_type": "markdown",
      "metadata": {
        "id": "crgz8n4sRAc6"
      },
      "source": [
        "\"loc\" ve \"iloc\"un kullanımının esnkeliği, kodun temiz ve okunabilir olmasını sağlar; özellikle tamsayı indeksleri söz konusu olduğunda, kodun okunmasını ve anlaşılmasını kolaylaştırmak ve karışık indeksleme/dilimleme kuralı nedeniyle hataları önlemek için bunların ikisini de kullanmanızı öneririm."
      ]
    },
    {
      "cell_type": "markdown",
      "metadata": {
        "id": "-5aqjILRRAc6"
      },
      "source": [
        "## DataFrame de data çağırmak-seçmek\n",
        "\"DataFrame\" iki boyutlu ve işlenmiş bir dizidir. Aynı zamanda seri yapılarının sözlüğü (dictionary) gibidir. DataFrame de veri çağırıken-seçerken bu analojiyi akılda tutmak işimizi kolaylaştırır.\n"
      ]
    },
    {
      "cell_type": "markdown",
      "metadata": {
        "id": "0nKpLjd6RAdB"
      },
      "source": [
        "### Dictionary olarak DataFrame\n",
        "Ele alacağımız ilk örnek, ilgili ``Series`` nesnelerinin bir dicitonary'si olarak ``DataFrame`` yapısı olacaktır.\n",
        "Şehirlerin yüzölçümleri ve nüfuslarıyla ilgili örneğimize bakalım:"
      ]
    },
    {
      "cell_type": "code",
      "execution_count": 90,
      "metadata": {
        "colab": {
          "base_uri": "https://localhost:8080/",
          "height": 204
        },
        "id": "7g4O1HCERAdC",
        "outputId": "2e541115-ac4b-4313-f137-7ed3a7c01b61"
      },
      "outputs": [
        {
          "data": {
            "text/html": [
              "<div>\n",
              "<style scoped>\n",
              "    .dataframe tbody tr th:only-of-type {\n",
              "        vertical-align: middle;\n",
              "    }\n",
              "\n",
              "    .dataframe tbody tr th {\n",
              "        vertical-align: top;\n",
              "    }\n",
              "\n",
              "    .dataframe thead th {\n",
              "        text-align: right;\n",
              "    }\n",
              "</style>\n",
              "<table border=\"1\" class=\"dataframe\">\n",
              "  <thead>\n",
              "    <tr style=\"text-align: right;\">\n",
              "      <th></th>\n",
              "      <th>alan</th>\n",
              "      <th>nüfus</th>\n",
              "    </tr>\n",
              "  </thead>\n",
              "  <tbody>\n",
              "    <tr>\n",
              "      <th>İstanbul</th>\n",
              "      <td>5461</td>\n",
              "      <td>15462452</td>\n",
              "    </tr>\n",
              "    <tr>\n",
              "      <th>Bursa</th>\n",
              "      <td>10813</td>\n",
              "      <td>3101833</td>\n",
              "    </tr>\n",
              "    <tr>\n",
              "      <th>Edirne</th>\n",
              "      <td>6145</td>\n",
              "      <td>407763</td>\n",
              "    </tr>\n",
              "    <tr>\n",
              "      <th>Ankara</th>\n",
              "      <td>25632</td>\n",
              "      <td>5663322</td>\n",
              "    </tr>\n",
              "    <tr>\n",
              "      <th>Kırklareli</th>\n",
              "      <td>6459</td>\n",
              "      <td>360860</td>\n",
              "    </tr>\n",
              "  </tbody>\n",
              "</table>\n",
              "</div>"
            ],
            "text/plain": [
              "             alan     nüfus\n",
              "İstanbul     5461  15462452\n",
              "Bursa       10813   3101833\n",
              "Edirne       6145    407763\n",
              "Ankara      25632   5663322\n",
              "Kırklareli   6459    360860"
            ]
          },
          "execution_count": 90,
          "metadata": {},
          "output_type": "execute_result"
        }
      ],
      "source": [
        "nüfus = pd.Series({'İstanbul': 15462452, 'Bursa': 3101833,\n",
        "                  'Edirne': 407763, 'Ankara': 5663322,\n",
        "                  'Kırklareli': 360860})\n",
        "alan = pd.Series({'İstanbul': 5461, 'Bursa': 10813,\n",
        "                 'Edirne': 6145, 'Ankara': 25632,\n",
        "                 'Kırklareli': 6459})\n",
        "data = pd.DataFrame({'alan':alan, 'nüfus':nüfus})\n",
        "data"
      ]
    },
    {
      "cell_type": "markdown",
      "metadata": {
        "id": "A3kOaj0dRAdD"
      },
      "source": [
        "\"DataFrame\"in sütunlarını oluşturan \"Seriler\"e, sütun adının sözlük stilinde indekslenmesi yoluyla erişilebilir:"
      ]
    },
    {
      "cell_type": "code",
      "execution_count": 91,
      "metadata": {
        "colab": {
          "base_uri": "https://localhost:8080/",
          "height": 119
        },
        "id": "bEK_OOhjRAdE",
        "outputId": "94f608c9-83a9-456f-a943-bd422a82f2cd"
      },
      "outputs": [
        {
          "data": {
            "text/plain": [
              "İstanbul       5461\n",
              "Bursa         10813\n",
              "Edirne         6145\n",
              "Ankara        25632\n",
              "Kırklareli     6459\n",
              "Name: alan, dtype: int64"
            ]
          },
          "execution_count": 91,
          "metadata": {},
          "output_type": "execute_result"
        }
      ],
      "source": [
        "data[\"alan\"]"
      ]
    },
    {
      "cell_type": "markdown",
      "metadata": {
        "id": "ilpjDPqERAdR"
      },
      "source": [
        "Ek olarak, sütunlar arasında aritmetik işlemler yapılabilir ve bu işlemlerin sonucu DataFrame mimize yeni bir kolon olarak eklenebilir."
      ]
    },
    {
      "cell_type": "code",
      "execution_count": 95,
      "metadata": {
        "colab": {
          "base_uri": "https://localhost:8080/",
          "height": 119
        },
        "id": "BvX8RB0URAdI",
        "outputId": "c6b212cf-c52e-48b2-f371-939b6b2856ab"
      },
      "outputs": [
        {
          "data": {
            "text/html": [
              "<div>\n",
              "<style scoped>\n",
              "    .dataframe tbody tr th:only-of-type {\n",
              "        vertical-align: middle;\n",
              "    }\n",
              "\n",
              "    .dataframe tbody tr th {\n",
              "        vertical-align: top;\n",
              "    }\n",
              "\n",
              "    .dataframe thead th {\n",
              "        text-align: right;\n",
              "    }\n",
              "</style>\n",
              "<table border=\"1\" class=\"dataframe\">\n",
              "  <thead>\n",
              "    <tr style=\"text-align: right;\">\n",
              "      <th></th>\n",
              "      <th>alan</th>\n",
              "      <th>nüfus</th>\n",
              "      <th>yoğunluk</th>\n",
              "    </tr>\n",
              "  </thead>\n",
              "  <tbody>\n",
              "    <tr>\n",
              "      <th>İstanbul</th>\n",
              "      <td>5461</td>\n",
              "      <td>15462452</td>\n",
              "      <td>2831.432338</td>\n",
              "    </tr>\n",
              "    <tr>\n",
              "      <th>Bursa</th>\n",
              "      <td>10813</td>\n",
              "      <td>3101833</td>\n",
              "      <td>286.861463</td>\n",
              "    </tr>\n",
              "    <tr>\n",
              "      <th>Edirne</th>\n",
              "      <td>6145</td>\n",
              "      <td>407763</td>\n",
              "      <td>66.356876</td>\n",
              "    </tr>\n",
              "    <tr>\n",
              "      <th>Ankara</th>\n",
              "      <td>25632</td>\n",
              "      <td>5663322</td>\n",
              "      <td>220.947331</td>\n",
              "    </tr>\n",
              "    <tr>\n",
              "      <th>Kırklareli</th>\n",
              "      <td>6459</td>\n",
              "      <td>360860</td>\n",
              "      <td>55.869330</td>\n",
              "    </tr>\n",
              "  </tbody>\n",
              "</table>\n",
              "</div>"
            ],
            "text/plain": [
              "             alan     nüfus     yoğunluk\n",
              "İstanbul     5461  15462452  2831.432338\n",
              "Bursa       10813   3101833   286.861463\n",
              "Edirne       6145    407763    66.356876\n",
              "Ankara      25632   5663322   220.947331\n",
              "Kırklareli   6459    360860    55.869330"
            ]
          },
          "execution_count": 95,
          "metadata": {},
          "output_type": "execute_result"
        }
      ],
      "source": [
        "data[\"yoğunluk\"] = data[\"nüfus\"] / data[\"alan\"]\n",
        "data"
      ]
    },
    {
      "cell_type": "markdown",
      "metadata": {
        "id": "TCDmB75pRAdG"
      },
      "source": [
        "Benzer şekilde, kolon isimlerini metod olarak yazıp da erişebiliriz"
      ]
    },
    {
      "cell_type": "code",
      "execution_count": 98,
      "metadata": {
        "colab": {
          "base_uri": "https://localhost:8080/",
          "height": 204
        },
        "id": "8IaKO8aGRAdS",
        "outputId": "7b73d984-9b23-42c7-de6b-f83af85c6d52"
      },
      "outputs": [
        {
          "data": {
            "text/plain": [
              "İstanbul      2831.432338\n",
              "Bursa          286.861463\n",
              "Edirne          66.356876\n",
              "Ankara         220.947331\n",
              "Kırklareli      55.869330\n",
              "Name: yoğunluk, dtype: float64"
            ]
          },
          "execution_count": 98,
          "metadata": {},
          "output_type": "execute_result"
        }
      ],
      "source": [
        "data.yoğunluk"
      ]
    },
    {
      "cell_type": "markdown",
      "metadata": {
        "id": "bc1ruWAyRAdU"
      },
      "source": [
        "### DataFrame i 2 boyutlu dizi olarak ele alacak olursak:\n",
        "Daha önce bahsedildiği gibi, DataFrame'i gelişmiş iki boyutlu bir dizi olarak düşünebiliriz. Ve DataFrame.values şeklinde asıl verilere dizi (array) şeklinde erişebiliriz."
      ]
    },
    {
      "cell_type": "code",
      "execution_count": 99,
      "metadata": {
        "colab": {
          "base_uri": "https://localhost:8080/",
          "height": 102
        },
        "id": "ami85Q84RAdU",
        "outputId": "8bacf704-6435-4812-d2c7-bf795ee0cea1"
      },
      "outputs": [
        {
          "data": {
            "text/plain": [
              "array([[5.46100000e+03, 1.54624520e+07, 2.83143234e+03],\n",
              "       [1.08130000e+04, 3.10183300e+06, 2.86861463e+02],\n",
              "       [6.14500000e+03, 4.07763000e+05, 6.63568755e+01],\n",
              "       [2.56320000e+04, 5.66332200e+06, 2.20947331e+02],\n",
              "       [6.45900000e+03, 3.60860000e+05, 5.58693296e+01]])"
            ]
          },
          "execution_count": 99,
          "metadata": {},
          "output_type": "execute_result"
        }
      ],
      "source": [
        "data.values"
      ]
    },
    {
      "cell_type": "markdown",
      "metadata": {
        "id": "1Z6c5nNpRAdX"
      },
      "source": [
        "Buna ek olarak, ``DataFrame`` üzerinde NumPy dizilerine yaptığımız pek çok işlemi uygulayabiliriz. Örneğin, satırları ve sütunların transpozesini alalım:"
      ]
    },
    {
      "cell_type": "code",
      "execution_count": 100,
      "metadata": {},
      "outputs": [
        {
          "data": {
            "text/html": [
              "<div>\n",
              "<style scoped>\n",
              "    .dataframe tbody tr th:only-of-type {\n",
              "        vertical-align: middle;\n",
              "    }\n",
              "\n",
              "    .dataframe tbody tr th {\n",
              "        vertical-align: top;\n",
              "    }\n",
              "\n",
              "    .dataframe thead th {\n",
              "        text-align: right;\n",
              "    }\n",
              "</style>\n",
              "<table border=\"1\" class=\"dataframe\">\n",
              "  <thead>\n",
              "    <tr style=\"text-align: right;\">\n",
              "      <th></th>\n",
              "      <th>alan</th>\n",
              "      <th>nüfus</th>\n",
              "      <th>yoğunluk</th>\n",
              "    </tr>\n",
              "  </thead>\n",
              "  <tbody>\n",
              "    <tr>\n",
              "      <th>İstanbul</th>\n",
              "      <td>5461</td>\n",
              "      <td>15462452</td>\n",
              "      <td>2831.432338</td>\n",
              "    </tr>\n",
              "    <tr>\n",
              "      <th>Bursa</th>\n",
              "      <td>10813</td>\n",
              "      <td>3101833</td>\n",
              "      <td>286.861463</td>\n",
              "    </tr>\n",
              "    <tr>\n",
              "      <th>Edirne</th>\n",
              "      <td>6145</td>\n",
              "      <td>407763</td>\n",
              "      <td>66.356876</td>\n",
              "    </tr>\n",
              "    <tr>\n",
              "      <th>Ankara</th>\n",
              "      <td>25632</td>\n",
              "      <td>5663322</td>\n",
              "      <td>220.947331</td>\n",
              "    </tr>\n",
              "    <tr>\n",
              "      <th>Kırklareli</th>\n",
              "      <td>6459</td>\n",
              "      <td>360860</td>\n",
              "      <td>55.869330</td>\n",
              "    </tr>\n",
              "  </tbody>\n",
              "</table>\n",
              "</div>"
            ],
            "text/plain": [
              "             alan     nüfus     yoğunluk\n",
              "İstanbul     5461  15462452  2831.432338\n",
              "Bursa       10813   3101833   286.861463\n",
              "Edirne       6145    407763    66.356876\n",
              "Ankara      25632   5663322   220.947331\n",
              "Kırklareli   6459    360860    55.869330"
            ]
          },
          "execution_count": 100,
          "metadata": {},
          "output_type": "execute_result"
        }
      ],
      "source": [
        "data"
      ]
    },
    {
      "cell_type": "code",
      "execution_count": 101,
      "metadata": {
        "colab": {
          "base_uri": "https://localhost:8080/",
          "height": 142
        },
        "id": "WII66_khRAdX",
        "outputId": "bbdf3382-cd24-4fd7-a54b-062121cc7722"
      },
      "outputs": [
        {
          "data": {
            "text/html": [
              "<div>\n",
              "<style scoped>\n",
              "    .dataframe tbody tr th:only-of-type {\n",
              "        vertical-align: middle;\n",
              "    }\n",
              "\n",
              "    .dataframe tbody tr th {\n",
              "        vertical-align: top;\n",
              "    }\n",
              "\n",
              "    .dataframe thead th {\n",
              "        text-align: right;\n",
              "    }\n",
              "</style>\n",
              "<table border=\"1\" class=\"dataframe\">\n",
              "  <thead>\n",
              "    <tr style=\"text-align: right;\">\n",
              "      <th></th>\n",
              "      <th>İstanbul</th>\n",
              "      <th>Bursa</th>\n",
              "      <th>Edirne</th>\n",
              "      <th>Ankara</th>\n",
              "      <th>Kırklareli</th>\n",
              "    </tr>\n",
              "  </thead>\n",
              "  <tbody>\n",
              "    <tr>\n",
              "      <th>alan</th>\n",
              "      <td>5.461000e+03</td>\n",
              "      <td>1.081300e+04</td>\n",
              "      <td>6145.000000</td>\n",
              "      <td>2.563200e+04</td>\n",
              "      <td>6459.00000</td>\n",
              "    </tr>\n",
              "    <tr>\n",
              "      <th>nüfus</th>\n",
              "      <td>1.546245e+07</td>\n",
              "      <td>3.101833e+06</td>\n",
              "      <td>407763.000000</td>\n",
              "      <td>5.663322e+06</td>\n",
              "      <td>360860.00000</td>\n",
              "    </tr>\n",
              "    <tr>\n",
              "      <th>yoğunluk</th>\n",
              "      <td>2.831432e+03</td>\n",
              "      <td>2.868615e+02</td>\n",
              "      <td>66.356876</td>\n",
              "      <td>2.209473e+02</td>\n",
              "      <td>55.86933</td>\n",
              "    </tr>\n",
              "  </tbody>\n",
              "</table>\n",
              "</div>"
            ],
            "text/plain": [
              "              İstanbul         Bursa         Edirne        Ankara  \\\n",
              "alan      5.461000e+03  1.081300e+04    6145.000000  2.563200e+04   \n",
              "nüfus     1.546245e+07  3.101833e+06  407763.000000  5.663322e+06   \n",
              "yoğunluk  2.831432e+03  2.868615e+02      66.356876  2.209473e+02   \n",
              "\n",
              "            Kırklareli  \n",
              "alan        6459.00000  \n",
              "nüfus     360860.00000  \n",
              "yoğunluk      55.86933  "
            ]
          },
          "execution_count": 101,
          "metadata": {},
          "output_type": "execute_result"
        }
      ],
      "source": [
        "data.T"
      ]
    },
    {
      "cell_type": "markdown",
      "metadata": {
        "id": "JZO8M1mbRAdZ"
      },
      "source": [
        "DataFrame de indeksleme yaparken, sözlük biçiminde olması nedeniyle NumPy dizisindeki gibi indeksleme yapamayız."
      ]
    },
    {
      "cell_type": "code",
      "execution_count": 103,
      "metadata": {},
      "outputs": [
        {
          "data": {
            "text/html": [
              "<div>\n",
              "<style scoped>\n",
              "    .dataframe tbody tr th:only-of-type {\n",
              "        vertical-align: middle;\n",
              "    }\n",
              "\n",
              "    .dataframe tbody tr th {\n",
              "        vertical-align: top;\n",
              "    }\n",
              "\n",
              "    .dataframe thead th {\n",
              "        text-align: right;\n",
              "    }\n",
              "</style>\n",
              "<table border=\"1\" class=\"dataframe\">\n",
              "  <thead>\n",
              "    <tr style=\"text-align: right;\">\n",
              "      <th></th>\n",
              "      <th>alan</th>\n",
              "      <th>nüfus</th>\n",
              "      <th>yoğunluk</th>\n",
              "    </tr>\n",
              "  </thead>\n",
              "  <tbody>\n",
              "    <tr>\n",
              "      <th>İstanbul</th>\n",
              "      <td>5461</td>\n",
              "      <td>15462452</td>\n",
              "      <td>2831.432338</td>\n",
              "    </tr>\n",
              "    <tr>\n",
              "      <th>Bursa</th>\n",
              "      <td>10813</td>\n",
              "      <td>3101833</td>\n",
              "      <td>286.861463</td>\n",
              "    </tr>\n",
              "    <tr>\n",
              "      <th>Edirne</th>\n",
              "      <td>6145</td>\n",
              "      <td>407763</td>\n",
              "      <td>66.356876</td>\n",
              "    </tr>\n",
              "    <tr>\n",
              "      <th>Ankara</th>\n",
              "      <td>25632</td>\n",
              "      <td>5663322</td>\n",
              "      <td>220.947331</td>\n",
              "    </tr>\n",
              "    <tr>\n",
              "      <th>Kırklareli</th>\n",
              "      <td>6459</td>\n",
              "      <td>360860</td>\n",
              "      <td>55.869330</td>\n",
              "    </tr>\n",
              "  </tbody>\n",
              "</table>\n",
              "</div>"
            ],
            "text/plain": [
              "             alan     nüfus     yoğunluk\n",
              "İstanbul     5461  15462452  2831.432338\n",
              "Bursa       10813   3101833   286.861463\n",
              "Edirne       6145    407763    66.356876\n",
              "Ankara      25632   5663322   220.947331\n",
              "Kırklareli   6459    360860    55.869330"
            ]
          },
          "execution_count": 103,
          "metadata": {},
          "output_type": "execute_result"
        }
      ],
      "source": [
        "data"
      ]
    },
    {
      "cell_type": "code",
      "execution_count": 102,
      "metadata": {},
      "outputs": [
        {
          "data": {
            "text/plain": [
              "array([[5.46100000e+03, 1.54624520e+07, 2.83143234e+03],\n",
              "       [1.08130000e+04, 3.10183300e+06, 2.86861463e+02],\n",
              "       [6.14500000e+03, 4.07763000e+05, 6.63568755e+01],\n",
              "       [2.56320000e+04, 5.66332200e+06, 2.20947331e+02],\n",
              "       [6.45900000e+03, 3.60860000e+05, 5.58693296e+01]])"
            ]
          },
          "execution_count": 102,
          "metadata": {},
          "output_type": "execute_result"
        }
      ],
      "source": [
        "data.values"
      ]
    },
    {
      "cell_type": "code",
      "execution_count": 104,
      "metadata": {
        "colab": {
          "base_uri": "https://localhost:8080/",
          "height": 34
        },
        "id": "azkK0upeRAdZ",
        "outputId": "a008005f-2a9e-4da0-dddc-304598278b92"
      },
      "outputs": [
        {
          "data": {
            "text/plain": [
              "array([5.46100000e+03, 1.54624520e+07, 2.83143234e+03])"
            ]
          },
          "execution_count": 104,
          "metadata": {},
          "output_type": "execute_result"
        }
      ],
      "source": [
        "data.values[0]"
      ]
    },
    {
      "cell_type": "code",
      "execution_count": 114,
      "metadata": {},
      "outputs": [
        {
          "data": {
            "text/plain": [
              "15462452"
            ]
          },
          "execution_count": 114,
          "metadata": {},
          "output_type": "execute_result"
        }
      ],
      "source": [
        "data.nüfus[0]"
      ]
    },
    {
      "cell_type": "markdown",
      "metadata": {
        "collapsed": true,
        "id": "L5KzN4_-RAdd"
      },
      "source": [
        "Bu nedenle iloc ve loc özelliklerini kullanarak indeksleme yaparız."
      ]
    },
    {
      "cell_type": "code",
      "execution_count": 115,
      "metadata": {
        "colab": {
          "base_uri": "https://localhost:8080/",
          "height": 204
        },
        "id": "E2msj5L-RAdh",
        "outputId": "8f22edbc-7403-43c0-9a93-bca20c54d1d8"
      },
      "outputs": [
        {
          "data": {
            "text/html": [
              "<div>\n",
              "<style scoped>\n",
              "    .dataframe tbody tr th:only-of-type {\n",
              "        vertical-align: middle;\n",
              "    }\n",
              "\n",
              "    .dataframe tbody tr th {\n",
              "        vertical-align: top;\n",
              "    }\n",
              "\n",
              "    .dataframe thead th {\n",
              "        text-align: right;\n",
              "    }\n",
              "</style>\n",
              "<table border=\"1\" class=\"dataframe\">\n",
              "  <thead>\n",
              "    <tr style=\"text-align: right;\">\n",
              "      <th></th>\n",
              "      <th>alan</th>\n",
              "      <th>nüfus</th>\n",
              "      <th>yoğunluk</th>\n",
              "    </tr>\n",
              "  </thead>\n",
              "  <tbody>\n",
              "    <tr>\n",
              "      <th>İstanbul</th>\n",
              "      <td>5461</td>\n",
              "      <td>15462452</td>\n",
              "      <td>2831.432338</td>\n",
              "    </tr>\n",
              "    <tr>\n",
              "      <th>Bursa</th>\n",
              "      <td>10813</td>\n",
              "      <td>3101833</td>\n",
              "      <td>286.861463</td>\n",
              "    </tr>\n",
              "    <tr>\n",
              "      <th>Edirne</th>\n",
              "      <td>6145</td>\n",
              "      <td>407763</td>\n",
              "      <td>66.356876</td>\n",
              "    </tr>\n",
              "    <tr>\n",
              "      <th>Ankara</th>\n",
              "      <td>25632</td>\n",
              "      <td>5663322</td>\n",
              "      <td>220.947331</td>\n",
              "    </tr>\n",
              "    <tr>\n",
              "      <th>Kırklareli</th>\n",
              "      <td>6459</td>\n",
              "      <td>360860</td>\n",
              "      <td>55.869330</td>\n",
              "    </tr>\n",
              "  </tbody>\n",
              "</table>\n",
              "</div>"
            ],
            "text/plain": [
              "             alan     nüfus     yoğunluk\n",
              "İstanbul     5461  15462452  2831.432338\n",
              "Bursa       10813   3101833   286.861463\n",
              "Edirne       6145    407763    66.356876\n",
              "Ankara      25632   5663322   220.947331\n",
              "Kırklareli   6459    360860    55.869330"
            ]
          },
          "execution_count": 115,
          "metadata": {},
          "output_type": "execute_result"
        }
      ],
      "source": [
        "data"
      ]
    },
    {
      "cell_type": "code",
      "execution_count": 117,
      "metadata": {},
      "outputs": [
        {
          "data": {
            "text/html": [
              "<div>\n",
              "<style scoped>\n",
              "    .dataframe tbody tr th:only-of-type {\n",
              "        vertical-align: middle;\n",
              "    }\n",
              "\n",
              "    .dataframe tbody tr th {\n",
              "        vertical-align: top;\n",
              "    }\n",
              "\n",
              "    .dataframe thead th {\n",
              "        text-align: right;\n",
              "    }\n",
              "</style>\n",
              "<table border=\"1\" class=\"dataframe\">\n",
              "  <thead>\n",
              "    <tr style=\"text-align: right;\">\n",
              "      <th></th>\n",
              "      <th>nüfus</th>\n",
              "      <th>yoğunluk</th>\n",
              "    </tr>\n",
              "  </thead>\n",
              "  <tbody>\n",
              "    <tr>\n",
              "      <th>Edirne</th>\n",
              "      <td>407763</td>\n",
              "      <td>66.356876</td>\n",
              "    </tr>\n",
              "    <tr>\n",
              "      <th>Ankara</th>\n",
              "      <td>5663322</td>\n",
              "      <td>220.947331</td>\n",
              "    </tr>\n",
              "    <tr>\n",
              "      <th>Kırklareli</th>\n",
              "      <td>360860</td>\n",
              "      <td>55.869330</td>\n",
              "    </tr>\n",
              "  </tbody>\n",
              "</table>\n",
              "</div>"
            ],
            "text/plain": [
              "              nüfus    yoğunluk\n",
              "Edirne       407763   66.356876\n",
              "Ankara      5663322  220.947331\n",
              "Kırklareli   360860   55.869330"
            ]
          },
          "execution_count": 117,
          "metadata": {},
          "output_type": "execute_result"
        }
      ],
      "source": [
        "data.iloc[2:5, 1:3]"
      ]
    },
    {
      "cell_type": "code",
      "execution_count": 118,
      "metadata": {},
      "outputs": [
        {
          "data": {
            "text/html": [
              "<div>\n",
              "<style scoped>\n",
              "    .dataframe tbody tr th:only-of-type {\n",
              "        vertical-align: middle;\n",
              "    }\n",
              "\n",
              "    .dataframe tbody tr th {\n",
              "        vertical-align: top;\n",
              "    }\n",
              "\n",
              "    .dataframe thead th {\n",
              "        text-align: right;\n",
              "    }\n",
              "</style>\n",
              "<table border=\"1\" class=\"dataframe\">\n",
              "  <thead>\n",
              "    <tr style=\"text-align: right;\">\n",
              "      <th></th>\n",
              "      <th>alan</th>\n",
              "      <th>nüfus</th>\n",
              "      <th>yoğunluk</th>\n",
              "    </tr>\n",
              "  </thead>\n",
              "  <tbody>\n",
              "    <tr>\n",
              "      <th>İstanbul</th>\n",
              "      <td>5461</td>\n",
              "      <td>15462452</td>\n",
              "      <td>2831.432338</td>\n",
              "    </tr>\n",
              "    <tr>\n",
              "      <th>Bursa</th>\n",
              "      <td>10813</td>\n",
              "      <td>3101833</td>\n",
              "      <td>286.861463</td>\n",
              "    </tr>\n",
              "    <tr>\n",
              "      <th>Edirne</th>\n",
              "      <td>6145</td>\n",
              "      <td>407763</td>\n",
              "      <td>66.356876</td>\n",
              "    </tr>\n",
              "    <tr>\n",
              "      <th>Ankara</th>\n",
              "      <td>25632</td>\n",
              "      <td>5663322</td>\n",
              "      <td>220.947331</td>\n",
              "    </tr>\n",
              "    <tr>\n",
              "      <th>Kırklareli</th>\n",
              "      <td>6459</td>\n",
              "      <td>360860</td>\n",
              "      <td>55.869330</td>\n",
              "    </tr>\n",
              "  </tbody>\n",
              "</table>\n",
              "</div>"
            ],
            "text/plain": [
              "             alan     nüfus     yoğunluk\n",
              "İstanbul     5461  15462452  2831.432338\n",
              "Bursa       10813   3101833   286.861463\n",
              "Edirne       6145    407763    66.356876\n",
              "Ankara      25632   5663322   220.947331\n",
              "Kırklareli   6459    360860    55.869330"
            ]
          },
          "execution_count": 118,
          "metadata": {},
          "output_type": "execute_result"
        }
      ],
      "source": [
        "data"
      ]
    },
    {
      "cell_type": "code",
      "execution_count": 120,
      "metadata": {},
      "outputs": [
        {
          "data": {
            "text/html": [
              "<div>\n",
              "<style scoped>\n",
              "    .dataframe tbody tr th:only-of-type {\n",
              "        vertical-align: middle;\n",
              "    }\n",
              "\n",
              "    .dataframe tbody tr th {\n",
              "        vertical-align: top;\n",
              "    }\n",
              "\n",
              "    .dataframe thead th {\n",
              "        text-align: right;\n",
              "    }\n",
              "</style>\n",
              "<table border=\"1\" class=\"dataframe\">\n",
              "  <thead>\n",
              "    <tr style=\"text-align: right;\">\n",
              "      <th></th>\n",
              "      <th>alan</th>\n",
              "      <th>nüfus</th>\n",
              "      <th>yoğunluk</th>\n",
              "    </tr>\n",
              "  </thead>\n",
              "  <tbody>\n",
              "    <tr>\n",
              "      <th>İstanbul</th>\n",
              "      <td>5461</td>\n",
              "      <td>15462452</td>\n",
              "      <td>2831.432338</td>\n",
              "    </tr>\n",
              "    <tr>\n",
              "      <th>Bursa</th>\n",
              "      <td>10813</td>\n",
              "      <td>3101833</td>\n",
              "      <td>286.861463</td>\n",
              "    </tr>\n",
              "    <tr>\n",
              "      <th>Edirne</th>\n",
              "      <td>6145</td>\n",
              "      <td>407763</td>\n",
              "      <td>66.356876</td>\n",
              "    </tr>\n",
              "    <tr>\n",
              "      <th>Ankara</th>\n",
              "      <td>25632</td>\n",
              "      <td>5663322</td>\n",
              "      <td>220.947331</td>\n",
              "    </tr>\n",
              "    <tr>\n",
              "      <th>Kırklareli</th>\n",
              "      <td>6459</td>\n",
              "      <td>360860</td>\n",
              "      <td>55.869330</td>\n",
              "    </tr>\n",
              "  </tbody>\n",
              "</table>\n",
              "</div>"
            ],
            "text/plain": [
              "             alan     nüfus     yoğunluk\n",
              "İstanbul     5461  15462452  2831.432338\n",
              "Bursa       10813   3101833   286.861463\n",
              "Edirne       6145    407763    66.356876\n",
              "Ankara      25632   5663322   220.947331\n",
              "Kırklareli   6459    360860    55.869330"
            ]
          },
          "execution_count": 120,
          "metadata": {},
          "output_type": "execute_result"
        }
      ],
      "source": [
        "data.loc[ : :, ::]"
      ]
    },
    {
      "cell_type": "markdown",
      "metadata": {
        "id": "SqbbsW2FRAdr"
      },
      "source": [
        "İndeksleme yaparken aynı zamanda çeşitli operatörlerle de filtreleme işlemleri yapabiliriz."
      ]
    },
    {
      "cell_type": "code",
      "execution_count": 121,
      "metadata": {},
      "outputs": [
        {
          "data": {
            "text/html": [
              "<div>\n",
              "<style scoped>\n",
              "    .dataframe tbody tr th:only-of-type {\n",
              "        vertical-align: middle;\n",
              "    }\n",
              "\n",
              "    .dataframe tbody tr th {\n",
              "        vertical-align: top;\n",
              "    }\n",
              "\n",
              "    .dataframe thead th {\n",
              "        text-align: right;\n",
              "    }\n",
              "</style>\n",
              "<table border=\"1\" class=\"dataframe\">\n",
              "  <thead>\n",
              "    <tr style=\"text-align: right;\">\n",
              "      <th></th>\n",
              "      <th>nüfus</th>\n",
              "      <th>yoğunluk</th>\n",
              "    </tr>\n",
              "  </thead>\n",
              "  <tbody>\n",
              "    <tr>\n",
              "      <th>İstanbul</th>\n",
              "      <td>15462452</td>\n",
              "      <td>2831.432338</td>\n",
              "    </tr>\n",
              "    <tr>\n",
              "      <th>Bursa</th>\n",
              "      <td>3101833</td>\n",
              "      <td>286.861463</td>\n",
              "    </tr>\n",
              "    <tr>\n",
              "      <th>Ankara</th>\n",
              "      <td>5663322</td>\n",
              "      <td>220.947331</td>\n",
              "    </tr>\n",
              "  </tbody>\n",
              "</table>\n",
              "</div>"
            ],
            "text/plain": [
              "             nüfus     yoğunluk\n",
              "İstanbul  15462452  2831.432338\n",
              "Bursa      3101833   286.861463\n",
              "Ankara     5663322   220.947331"
            ]
          },
          "execution_count": 121,
          "metadata": {},
          "output_type": "execute_result"
        }
      ],
      "source": [
        "data.loc[data.yoğunluk > 100, [\"nüfus\", \"yoğunluk\"]]"
      ]
    },
    {
      "cell_type": "code",
      "execution_count": null,
      "metadata": {
        "colab": {
          "base_uri": "https://localhost:8080/",
          "height": 111
        },
        "id": "h9N32canRAdr",
        "outputId": "5d0b9252-8785-4ad9-82f3-95e230f60b18"
      },
      "outputs": [],
      "source": []
    },
    {
      "cell_type": "markdown",
      "metadata": {
        "id": "T7sedMBZRAdt"
      },
      "source": [
        "Ayrıca, bu indekslemeleri yaptıktan sonra çağırdığımız veriyi değiştirebiliriz."
      ]
    },
    {
      "cell_type": "code",
      "execution_count": 123,
      "metadata": {},
      "outputs": [
        {
          "data": {
            "text/html": [
              "<div>\n",
              "<style scoped>\n",
              "    .dataframe tbody tr th:only-of-type {\n",
              "        vertical-align: middle;\n",
              "    }\n",
              "\n",
              "    .dataframe tbody tr th {\n",
              "        vertical-align: top;\n",
              "    }\n",
              "\n",
              "    .dataframe thead th {\n",
              "        text-align: right;\n",
              "    }\n",
              "</style>\n",
              "<table border=\"1\" class=\"dataframe\">\n",
              "  <thead>\n",
              "    <tr style=\"text-align: right;\">\n",
              "      <th></th>\n",
              "      <th>alan</th>\n",
              "      <th>nüfus</th>\n",
              "      <th>yoğunluk</th>\n",
              "    </tr>\n",
              "  </thead>\n",
              "  <tbody>\n",
              "    <tr>\n",
              "      <th>İstanbul</th>\n",
              "      <td>5461</td>\n",
              "      <td>15462452</td>\n",
              "      <td>90.000000</td>\n",
              "    </tr>\n",
              "    <tr>\n",
              "      <th>Bursa</th>\n",
              "      <td>10813</td>\n",
              "      <td>3101833</td>\n",
              "      <td>286.861463</td>\n",
              "    </tr>\n",
              "    <tr>\n",
              "      <th>Edirne</th>\n",
              "      <td>6145</td>\n",
              "      <td>407763</td>\n",
              "      <td>66.356876</td>\n",
              "    </tr>\n",
              "    <tr>\n",
              "      <th>Ankara</th>\n",
              "      <td>25632</td>\n",
              "      <td>5663322</td>\n",
              "      <td>220.947331</td>\n",
              "    </tr>\n",
              "    <tr>\n",
              "      <th>Kırklareli</th>\n",
              "      <td>6459</td>\n",
              "      <td>360860</td>\n",
              "      <td>55.869330</td>\n",
              "    </tr>\n",
              "  </tbody>\n",
              "</table>\n",
              "</div>"
            ],
            "text/plain": [
              "             alan     nüfus    yoğunluk\n",
              "İstanbul     5461  15462452   90.000000\n",
              "Bursa       10813   3101833  286.861463\n",
              "Edirne       6145    407763   66.356876\n",
              "Ankara      25632   5663322  220.947331\n",
              "Kırklareli   6459    360860   55.869330"
            ]
          },
          "execution_count": 123,
          "metadata": {},
          "output_type": "execute_result"
        }
      ],
      "source": [
        "data"
      ]
    },
    {
      "cell_type": "code",
      "execution_count": 125,
      "metadata": {
        "colab": {
          "base_uri": "https://localhost:8080/",
          "height": 204
        },
        "id": "TC-NKxdhRAdu",
        "outputId": "fb9571e3-428e-4864-d511-0627c910ace5"
      },
      "outputs": [
        {
          "data": {
            "text/html": [
              "<div>\n",
              "<style scoped>\n",
              "    .dataframe tbody tr th:only-of-type {\n",
              "        vertical-align: middle;\n",
              "    }\n",
              "\n",
              "    .dataframe tbody tr th {\n",
              "        vertical-align: top;\n",
              "    }\n",
              "\n",
              "    .dataframe thead th {\n",
              "        text-align: right;\n",
              "    }\n",
              "</style>\n",
              "<table border=\"1\" class=\"dataframe\">\n",
              "  <thead>\n",
              "    <tr style=\"text-align: right;\">\n",
              "      <th></th>\n",
              "      <th>alan</th>\n",
              "      <th>nüfus</th>\n",
              "      <th>yoğunluk</th>\n",
              "    </tr>\n",
              "  </thead>\n",
              "  <tbody>\n",
              "    <tr>\n",
              "      <th>İstanbul</th>\n",
              "      <td>5461</td>\n",
              "      <td>15462452</td>\n",
              "      <td>1200.000000</td>\n",
              "    </tr>\n",
              "    <tr>\n",
              "      <th>Bursa</th>\n",
              "      <td>10813</td>\n",
              "      <td>3101833</td>\n",
              "      <td>286.861463</td>\n",
              "    </tr>\n",
              "    <tr>\n",
              "      <th>Edirne</th>\n",
              "      <td>5000</td>\n",
              "      <td>407763</td>\n",
              "      <td>66.356876</td>\n",
              "    </tr>\n",
              "    <tr>\n",
              "      <th>Ankara</th>\n",
              "      <td>25632</td>\n",
              "      <td>5663322</td>\n",
              "      <td>220.947331</td>\n",
              "    </tr>\n",
              "    <tr>\n",
              "      <th>Kırklareli</th>\n",
              "      <td>6459</td>\n",
              "      <td>360860</td>\n",
              "      <td>55.869330</td>\n",
              "    </tr>\n",
              "  </tbody>\n",
              "</table>\n",
              "</div>"
            ],
            "text/plain": [
              "             alan     nüfus     yoğunluk\n",
              "İstanbul     5461  15462452  1200.000000\n",
              "Bursa       10813   3101833   286.861463\n",
              "Edirne       5000    407763    66.356876\n",
              "Ankara      25632   5663322   220.947331\n",
              "Kırklareli   6459    360860    55.869330"
            ]
          },
          "execution_count": 125,
          "metadata": {},
          "output_type": "execute_result"
        }
      ],
      "source": [
        "data.iloc[2, 0] = 5000\n",
        "data"
      ]
    },
    {
      "cell_type": "markdown",
      "metadata": {
        "id": "BC94yPlCRAdx"
      },
      "source": [
        "Pandas ile veri manipülasyonunda hızlanmak ve yeterlilik kazanmak için bir DataFrame oluşturmanızı ve o DataFrame üstünde yukarıdaki gibi indeksleme, dilimleme, filtreleme işlemleri yapmanızı öneririm."
      ]
    },
    {
      "cell_type": "markdown",
      "metadata": {
        "id": "MkQ2un1SRAdy"
      },
      "source": [
        "### Ek indekslemeler\n",
        "\n",
        "Yukarıda yaptıklarımızdan farklı görünebilecek, ancak yine de pratikte çok yararlı olabilecek birkaç ekstra indeksleme kuralı vardır.\n",
        "İlk olarak, *indeksleme (indexing)* sütunları ifade ederken, *dilimleme (slicing)* satırları ifade eder:"
      ]
    },
    {
      "cell_type": "code",
      "execution_count": 126,
      "metadata": {},
      "outputs": [
        {
          "data": {
            "text/html": [
              "<div>\n",
              "<style scoped>\n",
              "    .dataframe tbody tr th:only-of-type {\n",
              "        vertical-align: middle;\n",
              "    }\n",
              "\n",
              "    .dataframe tbody tr th {\n",
              "        vertical-align: top;\n",
              "    }\n",
              "\n",
              "    .dataframe thead th {\n",
              "        text-align: right;\n",
              "    }\n",
              "</style>\n",
              "<table border=\"1\" class=\"dataframe\">\n",
              "  <thead>\n",
              "    <tr style=\"text-align: right;\">\n",
              "      <th></th>\n",
              "      <th>alan</th>\n",
              "      <th>nüfus</th>\n",
              "      <th>yoğunluk</th>\n",
              "    </tr>\n",
              "  </thead>\n",
              "  <tbody>\n",
              "    <tr>\n",
              "      <th>İstanbul</th>\n",
              "      <td>5461</td>\n",
              "      <td>15462452</td>\n",
              "      <td>1200.000000</td>\n",
              "    </tr>\n",
              "    <tr>\n",
              "      <th>Bursa</th>\n",
              "      <td>10813</td>\n",
              "      <td>3101833</td>\n",
              "      <td>286.861463</td>\n",
              "    </tr>\n",
              "    <tr>\n",
              "      <th>Edirne</th>\n",
              "      <td>5000</td>\n",
              "      <td>407763</td>\n",
              "      <td>66.356876</td>\n",
              "    </tr>\n",
              "    <tr>\n",
              "      <th>Ankara</th>\n",
              "      <td>25632</td>\n",
              "      <td>5663322</td>\n",
              "      <td>220.947331</td>\n",
              "    </tr>\n",
              "    <tr>\n",
              "      <th>Kırklareli</th>\n",
              "      <td>6459</td>\n",
              "      <td>360860</td>\n",
              "      <td>55.869330</td>\n",
              "    </tr>\n",
              "  </tbody>\n",
              "</table>\n",
              "</div>"
            ],
            "text/plain": [
              "             alan     nüfus     yoğunluk\n",
              "İstanbul     5461  15462452  1200.000000\n",
              "Bursa       10813   3101833   286.861463\n",
              "Edirne       5000    407763    66.356876\n",
              "Ankara      25632   5663322   220.947331\n",
              "Kırklareli   6459    360860    55.869330"
            ]
          },
          "execution_count": 126,
          "metadata": {},
          "output_type": "execute_result"
        }
      ],
      "source": [
        "data"
      ]
    },
    {
      "cell_type": "code",
      "execution_count": 127,
      "metadata": {},
      "outputs": [
        {
          "data": {
            "text/html": [
              "<div>\n",
              "<style scoped>\n",
              "    .dataframe tbody tr th:only-of-type {\n",
              "        vertical-align: middle;\n",
              "    }\n",
              "\n",
              "    .dataframe tbody tr th {\n",
              "        vertical-align: top;\n",
              "    }\n",
              "\n",
              "    .dataframe thead th {\n",
              "        text-align: right;\n",
              "    }\n",
              "</style>\n",
              "<table border=\"1\" class=\"dataframe\">\n",
              "  <thead>\n",
              "    <tr style=\"text-align: right;\">\n",
              "      <th></th>\n",
              "      <th>alan</th>\n",
              "      <th>nüfus</th>\n",
              "      <th>yoğunluk</th>\n",
              "    </tr>\n",
              "  </thead>\n",
              "  <tbody>\n",
              "    <tr>\n",
              "      <th>İstanbul</th>\n",
              "      <td>5461</td>\n",
              "      <td>15462452</td>\n",
              "      <td>1200.000000</td>\n",
              "    </tr>\n",
              "    <tr>\n",
              "      <th>Bursa</th>\n",
              "      <td>10813</td>\n",
              "      <td>3101833</td>\n",
              "      <td>286.861463</td>\n",
              "    </tr>\n",
              "    <tr>\n",
              "      <th>Edirne</th>\n",
              "      <td>5000</td>\n",
              "      <td>407763</td>\n",
              "      <td>66.356876</td>\n",
              "    </tr>\n",
              "  </tbody>\n",
              "</table>\n",
              "</div>"
            ],
            "text/plain": [
              "           alan     nüfus     yoğunluk\n",
              "İstanbul   5461  15462452  1200.000000\n",
              "Bursa     10813   3101833   286.861463\n",
              "Edirne     5000    407763    66.356876"
            ]
          },
          "execution_count": 127,
          "metadata": {},
          "output_type": "execute_result"
        }
      ],
      "source": [
        "data[\"İstanbul\": \"Edirne\"]"
      ]
    },
    {
      "cell_type": "markdown",
      "metadata": {
        "id": "7e8YnFlWRAd0"
      },
      "source": [
        "Yukarıdaki veri çağırma işlemini sayılarla da yapabiliriz."
      ]
    },
    {
      "cell_type": "code",
      "execution_count": 128,
      "metadata": {
        "colab": {
          "base_uri": "https://localhost:8080/",
          "height": 111
        },
        "id": "EjVfV8dcRAd0",
        "outputId": "dc8ab2fc-d445-4962-b9a7-196cc8dd92c2"
      },
      "outputs": [
        {
          "data": {
            "text/html": [
              "<div>\n",
              "<style scoped>\n",
              "    .dataframe tbody tr th:only-of-type {\n",
              "        vertical-align: middle;\n",
              "    }\n",
              "\n",
              "    .dataframe tbody tr th {\n",
              "        vertical-align: top;\n",
              "    }\n",
              "\n",
              "    .dataframe thead th {\n",
              "        text-align: right;\n",
              "    }\n",
              "</style>\n",
              "<table border=\"1\" class=\"dataframe\">\n",
              "  <thead>\n",
              "    <tr style=\"text-align: right;\">\n",
              "      <th></th>\n",
              "      <th>alan</th>\n",
              "      <th>nüfus</th>\n",
              "      <th>yoğunluk</th>\n",
              "    </tr>\n",
              "  </thead>\n",
              "  <tbody>\n",
              "    <tr>\n",
              "      <th>İstanbul</th>\n",
              "      <td>5461</td>\n",
              "      <td>15462452</td>\n",
              "      <td>1200.000000</td>\n",
              "    </tr>\n",
              "    <tr>\n",
              "      <th>Bursa</th>\n",
              "      <td>10813</td>\n",
              "      <td>3101833</td>\n",
              "      <td>286.861463</td>\n",
              "    </tr>\n",
              "    <tr>\n",
              "      <th>Edirne</th>\n",
              "      <td>5000</td>\n",
              "      <td>407763</td>\n",
              "      <td>66.356876</td>\n",
              "    </tr>\n",
              "  </tbody>\n",
              "</table>\n",
              "</div>"
            ],
            "text/plain": [
              "           alan     nüfus     yoğunluk\n",
              "İstanbul   5461  15462452  1200.000000\n",
              "Bursa     10813   3101833   286.861463\n",
              "Edirne     5000    407763    66.356876"
            ]
          },
          "execution_count": 128,
          "metadata": {},
          "output_type": "execute_result"
        }
      ],
      "source": [
        "data[0 : 3]"
      ]
    },
    {
      "cell_type": "markdown",
      "metadata": {
        "id": "LVA9uUsSRAd4"
      },
      "source": [
        "Benzer şekilde maskeleme (masking) işlemleri de sütun yerine satır bazında yapılır."
      ]
    },
    {
      "cell_type": "code",
      "execution_count": 130,
      "metadata": {
        "colab": {
          "base_uri": "https://localhost:8080/",
          "height": 111
        },
        "id": "Nc7aumpfRAd4",
        "outputId": "6af38ffc-e9a1-4cde-b1ee-30f0fbecb5ee"
      },
      "outputs": [
        {
          "data": {
            "text/html": [
              "<div>\n",
              "<style scoped>\n",
              "    .dataframe tbody tr th:only-of-type {\n",
              "        vertical-align: middle;\n",
              "    }\n",
              "\n",
              "    .dataframe tbody tr th {\n",
              "        vertical-align: top;\n",
              "    }\n",
              "\n",
              "    .dataframe thead th {\n",
              "        text-align: right;\n",
              "    }\n",
              "</style>\n",
              "<table border=\"1\" class=\"dataframe\">\n",
              "  <thead>\n",
              "    <tr style=\"text-align: right;\">\n",
              "      <th></th>\n",
              "      <th>alan</th>\n",
              "      <th>nüfus</th>\n",
              "      <th>yoğunluk</th>\n",
              "    </tr>\n",
              "  </thead>\n",
              "  <tbody>\n",
              "    <tr>\n",
              "      <th>Edirne</th>\n",
              "      <td>5000</td>\n",
              "      <td>407763</td>\n",
              "      <td>66.356876</td>\n",
              "    </tr>\n",
              "    <tr>\n",
              "      <th>Kırklareli</th>\n",
              "      <td>6459</td>\n",
              "      <td>360860</td>\n",
              "      <td>55.869330</td>\n",
              "    </tr>\n",
              "  </tbody>\n",
              "</table>\n",
              "</div>"
            ],
            "text/plain": [
              "            alan   nüfus   yoğunluk\n",
              "Edirne      5000  407763  66.356876\n",
              "Kırklareli  6459  360860  55.869330"
            ]
          },
          "execution_count": 130,
          "metadata": {},
          "output_type": "execute_result"
        }
      ],
      "source": [
        "data[data.yoğunluk < 100]"
      ]
    },
    {
      "cell_type": "code",
      "execution_count": null,
      "metadata": {
        "id": "xjxrWdZiLQ7a"
      },
      "outputs": [],
      "source": []
    }
  ],
  "metadata": {
    "colab": {
      "collapsed_sections": [],
      "name": "[Lecture-1]Intro-to-Pandas.ipynb",
      "provenance": []
    },
    "kernelspec": {
      "display_name": "Python 3",
      "language": "python",
      "name": "python3"
    },
    "language_info": {
      "codemirror_mode": {
        "name": "ipython",
        "version": 3
      },
      "file_extension": ".py",
      "mimetype": "text/x-python",
      "name": "python",
      "nbconvert_exporter": "python",
      "pygments_lexer": "ipython3",
      "version": "3.10.0"
    }
  },
  "nbformat": 4,
  "nbformat_minor": 0
}
